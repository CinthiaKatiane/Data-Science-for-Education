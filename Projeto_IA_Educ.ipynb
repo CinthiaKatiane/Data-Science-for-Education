{
 "cells": [
  {
   "cell_type": "markdown",
   "metadata": {
    "colab_type": "text",
    "id": "a5H6042gMI0j"
   },
   "source": [
    "# PROJETO\n",
    "\n",
    "### DISCIPLINA: INTELIGÊNCIA ARTIFICIAL APLICADA À EDUCAÇÃO\n",
    "\n",
    "#### PROFESSORES:\n",
    "\n",
    "ADJA FERREIRA DE ANDRADE\n",
    "\n",
    "CHARLES ANDRYE GALVAO MADEIRA \n",
    "\n",
    "#### ALUNA: \n",
    "\n",
    "CINTHIA KATIANE ARAÚJO DO NASCIMENTO\n",
    "\n",
    "#### DESCRIÇÃO DO PROJETO \n",
    "\n",
    "Lorem ipsum dolor sit amet, consectetur adipiscing elit. Mauris non imperdiet ipsum. Phasellus faucibus sapien sem, eu tempus nisl venenatis tempor. Sed non euismod purus, a tincidunt nisi. Quisque consectetur nibh tellus, eget convallis sem luctus ut. Sed congue auctor massa, nec dictum libero ullamcorper eget. Donec feugiat venenatis porta. Donec ut pretium erat. Integer et elit tellus. Fusce lobortis aliquet ultricies. Donec condimentum risus nec tristique volutpat. Nam blandit tempus mi, id maximus orci rhoncus at. Phasellus interdum aliquam tellus eu laoreet. Sed maximus, magna in commodo blandit, odio dui ornare sem, a accumsan augue magna ac est. Etiam. \n",
    "\n",
    "_______________________________________________________________"
   ]
  },
  {
   "cell_type": "markdown",
   "metadata": {
    "colab_type": "text",
    "id": "k0xGcy6sMI0l"
   },
   "source": [
    "# INTRODUÇÃO\n",
    "\n",
    "Antes de começar é necessário destacar alguns conceitos e ferramentas que foram importantes para o desenvolvimento desse projeto.\n",
    "\n",
    "#### ANÁLISE DE DADOS\n",
    "\n",
    "\n",
    "![alt text](http://www.know-center.tugraz.at/cms/wp-content/uploads/2016/02/Know-Center_Big-Data-Lab-Datenanalyse-3-2.png \"Logo Title Text 1\")\n",
    "\n",
    "\n",
    "Análise de dados significa transformar números em informação, em significado, em solução de problemas.\n",
    "\n",
    "#### PANDAS\n",
    "\n",
    "![alt text](https://pandas.pydata.org/_static/pandas_logo.png \"Logo Title Text 1\")\n",
    "\n",
    "Pandas é uma biblioteca open source, que fornece estruturas de dados de alto desempenho e fáceis de usar e ferramentas de análise de dados para a linguagem de programação Python.\n",
    "\n",
    "#### NUMPY\n",
    "\n",
    "![alt text](https://www.pytorchtutorial.com/wp-content/uploads/2018/07/numpy-logo.png \"Logo Title Text 1\")\n",
    "\n",
    "O NumPy é o pacote fundamental para computação científica com o Python. Ele contém entre outras coisas:\n",
    "\n",
    "* Um poderoso objeto array N-dimensional\n",
    "* Funções sofisticadas (transmissão)\n",
    "* Ferramentas para integrar código C / C ++ e Fortran\n",
    "* Álgebra linear útil, transformada de Fourier e capacidades de números aleatórios\n",
    "\n",
    "#### MATPLOTLIB\n",
    "\n",
    "![alt text](https://matplotlib.org/_static/logo2.png \"Logo Title Text 1\")\n",
    "\n",
    "#### NETWORKX\n",
    "\n",
    "![alt text](http://pyviz.org/assets/networkx.png \"Logo Title Text 1\")\n",
    "\n",
    "\n",
    "__________"
   ]
  },
  {
   "cell_type": "code",
   "execution_count": 1,
   "metadata": {
    "colab": {},
    "colab_type": "code",
    "id": "EjRIg0kjMI0q"
   },
   "outputs": [],
   "source": [
    "import pandas as pd\n",
    "import numpy as np\n",
    "import networkx as nx\n",
    "import matplotlib.pyplot as plt"
   ]
  },
  {
   "cell_type": "markdown",
   "metadata": {
    "colab_type": "text",
    "id": "hhMGHmlFMI0v"
   },
   "source": [
    "# FIRST THINGS FIRST\n",
    "\n",
    "#### TAREFAS:\n",
    "\n",
    "* Coleta\n",
    "* Limpeza\n",
    "\n",
    "________\n",
    "\n",
    "#### 1.1 INFORMAÇÕES DOS COMPONENTES E CURRÍCULOS\n",
    "\n",
    "#### DATASETS UTILIZADOS\n",
    "\n",
    "Componentes: \n",
    "\n",
    "http://dados.ufrn.br/dataset/3fea67e8-6916-4ed0-aaa6-9a8ca06a9bdc/resource/9a3521d2-4bc5-4fda-93f0-f701c8a20727/download/componentes-curriculares-presenciais.csv\n",
    "\n",
    "Curriculos:\n",
    "\n",
    "http://dados.ufrn.br/dataset/82aca3f1-f7ee-425e-bf1e-b6a1d6811bf4/resource/3f25d054-c5d2-4bf2-8cd4-8e0a2e4f63ce/download/curriculo-componente-graduacao.csv\n",
    "\n",
    "### CÓDIGO"
   ]
  },
  {
   "cell_type": "code",
   "execution_count": 2,
   "metadata": {
    "colab": {
     "base_uri": "https://localhost:8080/",
     "height": 343
    },
    "colab_type": "code",
    "id": "76en-HIHMI0w",
    "outputId": "9526475f-bb42-40e8-db01-3ab67028872c"
   },
   "outputs": [
    {
     "data": {
      "text/html": [
       "<div>\n",
       "<style scoped>\n",
       "    .dataframe tbody tr th:only-of-type {\n",
       "        vertical-align: middle;\n",
       "    }\n",
       "\n",
       "    .dataframe tbody tr th {\n",
       "        vertical-align: top;\n",
       "    }\n",
       "\n",
       "    .dataframe thead th {\n",
       "        text-align: right;\n",
       "    }\n",
       "</style>\n",
       "<table border=\"1\" class=\"dataframe\">\n",
       "  <thead>\n",
       "    <tr style=\"text-align: right;\">\n",
       "      <th></th>\n",
       "      <th>id_componente</th>\n",
       "      <th>tipo_componente</th>\n",
       "      <th>codigo</th>\n",
       "      <th>nivel</th>\n",
       "      <th>nome</th>\n",
       "      <th>ch_total</th>\n",
       "      <th>equivalencia</th>\n",
       "      <th>pre_requisito</th>\n",
       "      <th>co_requisito</th>\n",
       "    </tr>\n",
       "  </thead>\n",
       "  <tbody>\n",
       "    <tr>\n",
       "      <th>0</th>\n",
       "      <td>18643</td>\n",
       "      <td>DISCIPLINA</td>\n",
       "      <td>MUT508</td>\n",
       "      <td>T</td>\n",
       "      <td>COMPOSIÇÃO EM MÚSICA POPULAR III</td>\n",
       "      <td>60</td>\n",
       "      <td>NaN</td>\n",
       "      <td>NaN</td>\n",
       "      <td>NaN</td>\n",
       "    </tr>\n",
       "    <tr>\n",
       "      <th>1</th>\n",
       "      <td>18644</td>\n",
       "      <td>DISCIPLINA</td>\n",
       "      <td>MUT516</td>\n",
       "      <td>T</td>\n",
       "      <td>CO-REPETIÇÃO</td>\n",
       "      <td>30</td>\n",
       "      <td>NaN</td>\n",
       "      <td>NaN</td>\n",
       "      <td>NaN</td>\n",
       "    </tr>\n",
       "    <tr>\n",
       "      <th>2</th>\n",
       "      <td>18645</td>\n",
       "      <td>DISCIPLINA</td>\n",
       "      <td>MUT520</td>\n",
       "      <td>T</td>\n",
       "      <td>CONTRABAIXO ACÚSTICO I</td>\n",
       "      <td>30</td>\n",
       "      <td>NaN</td>\n",
       "      <td>NaN</td>\n",
       "      <td>NaN</td>\n",
       "    </tr>\n",
       "    <tr>\n",
       "      <th>3</th>\n",
       "      <td>18646</td>\n",
       "      <td>DISCIPLINA</td>\n",
       "      <td>MUT165</td>\n",
       "      <td>T</td>\n",
       "      <td>PIANO COMPLEMENTAR I</td>\n",
       "      <td>15</td>\n",
       "      <td>NaN</td>\n",
       "      <td>NaN</td>\n",
       "      <td>NaN</td>\n",
       "    </tr>\n",
       "    <tr>\n",
       "      <th>4</th>\n",
       "      <td>18647</td>\n",
       "      <td>DISCIPLINA</td>\n",
       "      <td>MUT167</td>\n",
       "      <td>T</td>\n",
       "      <td>PIANO COMPLEMENTAR III</td>\n",
       "      <td>15</td>\n",
       "      <td>NaN</td>\n",
       "      <td>NaN</td>\n",
       "      <td>NaN</td>\n",
       "    </tr>\n",
       "  </tbody>\n",
       "</table>\n",
       "</div>"
      ],
      "text/plain": [
       "  id_componente tipo_componente  codigo nivel  \\\n",
       "0         18643      DISCIPLINA  MUT508     T   \n",
       "1         18644      DISCIPLINA  MUT516     T   \n",
       "2         18645      DISCIPLINA  MUT520     T   \n",
       "3         18646      DISCIPLINA  MUT165     T   \n",
       "4         18647      DISCIPLINA  MUT167     T   \n",
       "\n",
       "                               nome ch_total equivalencia pre_requisito  \\\n",
       "0  COMPOSIÇÃO EM MÚSICA POPULAR III       60          NaN           NaN   \n",
       "1                      CO-REPETIÇÃO       30          NaN           NaN   \n",
       "2            CONTRABAIXO ACÚSTICO I       30          NaN           NaN   \n",
       "3              PIANO COMPLEMENTAR I       15          NaN           NaN   \n",
       "4            PIANO COMPLEMENTAR III       15          NaN           NaN   \n",
       "\n",
       "  co_requisito  \n",
       "0          NaN  \n",
       "1          NaN  \n",
       "2          NaN  \n",
       "3          NaN  \n",
       "4          NaN  "
      ]
     },
     "execution_count": 2,
     "metadata": {},
     "output_type": "execute_result"
    }
   ],
   "source": [
    "df_componentes = pd.read_csv('dados/componentes-curriculares-presenciais.csv',\n",
    "                            error_bad_lines=False, sep=';', low_memory=False,\n",
    "                            usecols=['id_componente','tipo_componente', 'codigo', 'nivel', 'nome', 'ch_total', 'equivalencia', 'pre_requisito','co_requisito'])\n",
    "df_componentes.head()"
   ]
  },
  {
   "cell_type": "code",
   "execution_count": 3,
   "metadata": {
    "colab": {
     "base_uri": "https://localhost:8080/",
     "height": 326
    },
    "colab_type": "code",
    "id": "_Cq3DwBjMI03",
    "outputId": "b07fde4e-4d13-4e98-a4ee-e62b1860ab00"
   },
   "outputs": [
    {
     "data": {
      "text/html": [
       "<div>\n",
       "<style scoped>\n",
       "    .dataframe tbody tr th:only-of-type {\n",
       "        vertical-align: middle;\n",
       "    }\n",
       "\n",
       "    .dataframe tbody tr th {\n",
       "        vertical-align: top;\n",
       "    }\n",
       "\n",
       "    .dataframe thead th {\n",
       "        text-align: right;\n",
       "    }\n",
       "</style>\n",
       "<table border=\"1\" class=\"dataframe\">\n",
       "  <thead>\n",
       "    <tr style=\"text-align: right;\">\n",
       "      <th></th>\n",
       "      <th>id_componente</th>\n",
       "      <th>tipo_componente</th>\n",
       "      <th>codigo</th>\n",
       "      <th>nivel</th>\n",
       "      <th>nome</th>\n",
       "      <th>ch_total</th>\n",
       "      <th>equivalencia</th>\n",
       "      <th>pre_requisito</th>\n",
       "      <th>co_requisito</th>\n",
       "    </tr>\n",
       "  </thead>\n",
       "  <tbody>\n",
       "    <tr>\n",
       "      <th>20970</th>\n",
       "      <td>51954</td>\n",
       "      <td>MODULO</td>\n",
       "      <td>IMD0001</td>\n",
       "      <td>L</td>\n",
       "      <td>INOVAÇÃO TECNOLÓGICA</td>\n",
       "      <td>15</td>\n",
       "      <td>NaN</td>\n",
       "      <td>NaN</td>\n",
       "      <td>NaN</td>\n",
       "    </tr>\n",
       "    <tr>\n",
       "      <th>21229</th>\n",
       "      <td>52247</td>\n",
       "      <td>MODULO</td>\n",
       "      <td>IMD0002</td>\n",
       "      <td>L</td>\n",
       "      <td>INOVAÇÃO TECNOLÓGICA</td>\n",
       "      <td>30</td>\n",
       "      <td>NaN</td>\n",
       "      <td>NaN</td>\n",
       "      <td>NaN</td>\n",
       "    </tr>\n",
       "    <tr>\n",
       "      <th>21230</th>\n",
       "      <td>52248</td>\n",
       "      <td>MODULO</td>\n",
       "      <td>IMD0003</td>\n",
       "      <td>L</td>\n",
       "      <td>PROCESSO E QUALIDADE DE SOFTWARE</td>\n",
       "      <td>30</td>\n",
       "      <td>NaN</td>\n",
       "      <td>NaN</td>\n",
       "      <td>NaN</td>\n",
       "    </tr>\n",
       "    <tr>\n",
       "      <th>21231</th>\n",
       "      <td>52249</td>\n",
       "      <td>MODULO</td>\n",
       "      <td>IMD0004</td>\n",
       "      <td>L</td>\n",
       "      <td>GERÊNCIA DE PROJETOS</td>\n",
       "      <td>30</td>\n",
       "      <td>NaN</td>\n",
       "      <td>NaN</td>\n",
       "      <td>NaN</td>\n",
       "    </tr>\n",
       "    <tr>\n",
       "      <th>21371</th>\n",
       "      <td>52390</td>\n",
       "      <td>MODULO</td>\n",
       "      <td>IMD0005</td>\n",
       "      <td>L</td>\n",
       "      <td>INOVAÇÃO TECNOLÓGICA</td>\n",
       "      <td>15</td>\n",
       "      <td>NaN</td>\n",
       "      <td>NaN</td>\n",
       "      <td>NaN</td>\n",
       "    </tr>\n",
       "  </tbody>\n",
       "</table>\n",
       "</div>"
      ],
      "text/plain": [
       "      id_componente tipo_componente   codigo nivel  \\\n",
       "20970         51954          MODULO  IMD0001     L   \n",
       "21229         52247          MODULO  IMD0002     L   \n",
       "21230         52248          MODULO  IMD0003     L   \n",
       "21231         52249          MODULO  IMD0004     L   \n",
       "21371         52390          MODULO  IMD0005     L   \n",
       "\n",
       "                                   nome ch_total equivalencia pre_requisito  \\\n",
       "20970              INOVAÇÃO TECNOLÓGICA       15          NaN           NaN   \n",
       "21229              INOVAÇÃO TECNOLÓGICA       30          NaN           NaN   \n",
       "21230  PROCESSO E QUALIDADE DE SOFTWARE       30          NaN           NaN   \n",
       "21231              GERÊNCIA DE PROJETOS       30          NaN           NaN   \n",
       "21371              INOVAÇÃO TECNOLÓGICA       15          NaN           NaN   \n",
       "\n",
       "      co_requisito  \n",
       "20970          NaN  \n",
       "21229          NaN  \n",
       "21230          NaN  \n",
       "21231          NaN  \n",
       "21371          NaN  "
      ]
     },
     "execution_count": 3,
     "metadata": {},
     "output_type": "execute_result"
    }
   ],
   "source": [
    "df_componentes_imd = df_componentes[df_componentes.codigo.str.contains('IMD', na=False)]\n",
    "df_componentes_imd.head()"
   ]
  },
  {
   "cell_type": "code",
   "execution_count": 4,
   "metadata": {
    "colab": {
     "base_uri": "https://localhost:8080/",
     "height": 222
    },
    "colab_type": "code",
    "id": "IT0DjawrMI0_",
    "outputId": "e172c027-fdf9-4d48-a088-e076023f9907",
    "scrolled": true
   },
   "outputs": [
    {
     "data": {
      "text/html": [
       "<div>\n",
       "<style scoped>\n",
       "    .dataframe tbody tr th:only-of-type {\n",
       "        vertical-align: middle;\n",
       "    }\n",
       "\n",
       "    .dataframe tbody tr th {\n",
       "        vertical-align: top;\n",
       "    }\n",
       "\n",
       "    .dataframe thead th {\n",
       "        text-align: right;\n",
       "    }\n",
       "</style>\n",
       "<table border=\"1\" class=\"dataframe\">\n",
       "  <thead>\n",
       "    <tr style=\"text-align: right;\">\n",
       "      <th></th>\n",
       "      <th>id_curriculo_componente</th>\n",
       "      <th>id_curriculo</th>\n",
       "      <th>id_componente_curricular</th>\n",
       "      <th>semestre_oferta</th>\n",
       "      <th>tipo_vinculo_componente</th>\n",
       "      <th>nivel_ensino</th>\n",
       "    </tr>\n",
       "  </thead>\n",
       "  <tbody>\n",
       "    <tr>\n",
       "      <th>0</th>\n",
       "      <td>129366</td>\n",
       "      <td>100579</td>\n",
       "      <td>23161</td>\n",
       "      <td>8</td>\n",
       "      <td>OPTATIVO</td>\n",
       "      <td>GRADUAÇÃO</td>\n",
       "    </tr>\n",
       "    <tr>\n",
       "      <th>1</th>\n",
       "      <td>121276</td>\n",
       "      <td>100302</td>\n",
       "      <td>25440</td>\n",
       "      <td>5</td>\n",
       "      <td>OPTATIVO</td>\n",
       "      <td>GRADUAÇÃO</td>\n",
       "    </tr>\n",
       "    <tr>\n",
       "      <th>2</th>\n",
       "      <td>19001074</td>\n",
       "      <td>18999000</td>\n",
       "      <td>25603</td>\n",
       "      <td>1</td>\n",
       "      <td>OBRIGATÓRIO</td>\n",
       "      <td>GRADUAÇÃO</td>\n",
       "    </tr>\n",
       "    <tr>\n",
       "      <th>3</th>\n",
       "      <td>116106239</td>\n",
       "      <td>107405556</td>\n",
       "      <td>41803</td>\n",
       "      <td>0</td>\n",
       "      <td>OPTATIVO</td>\n",
       "      <td>GRADUAÇÃO</td>\n",
       "    </tr>\n",
       "    <tr>\n",
       "      <th>4</th>\n",
       "      <td>127478</td>\n",
       "      <td>100200</td>\n",
       "      <td>22865</td>\n",
       "      <td>6</td>\n",
       "      <td>OPTATIVO</td>\n",
       "      <td>GRADUAÇÃO</td>\n",
       "    </tr>\n",
       "  </tbody>\n",
       "</table>\n",
       "</div>"
      ],
      "text/plain": [
       "   id_curriculo_componente  id_curriculo  id_componente_curricular  \\\n",
       "0                   129366        100579                     23161   \n",
       "1                   121276        100302                     25440   \n",
       "2                 19001074      18999000                     25603   \n",
       "3                116106239     107405556                     41803   \n",
       "4                   127478        100200                     22865   \n",
       "\n",
       "   semestre_oferta tipo_vinculo_componente nivel_ensino  \n",
       "0                8                OPTATIVO    GRADUAÇÃO  \n",
       "1                5                OPTATIVO    GRADUAÇÃO  \n",
       "2                1             OBRIGATÓRIO    GRADUAÇÃO  \n",
       "3                0                OPTATIVO    GRADUAÇÃO  \n",
       "4                6                OPTATIVO    GRADUAÇÃO  "
      ]
     },
     "execution_count": 4,
     "metadata": {},
     "output_type": "execute_result"
    }
   ],
   "source": [
    "df_curriculo = pd.read_csv('dados/curriculo-componente-graduacao.csv',\n",
    "                            error_bad_lines=False, sep=';')\n",
    "df_curriculo.head()"
   ]
  },
  {
   "cell_type": "code",
   "execution_count": 5,
   "metadata": {
    "colab": {},
    "colab_type": "code",
    "id": "i9qNotyuMI1F"
   },
   "outputs": [],
   "source": [
    "df_curriculo.rename(columns={'id_componente_curricular': 'id_componente'}, inplace=True)"
   ]
  },
  {
   "cell_type": "code",
   "execution_count": 6,
   "metadata": {
    "colab": {
     "base_uri": "https://localhost:8080/",
     "height": 141
    },
    "colab_type": "code",
    "id": "OWjbjMzBMI1J",
    "outputId": "c0836731-0492-44ba-b1b9-539bc1980dfc"
   },
   "outputs": [
    {
     "name": "stderr",
     "output_type": "stream",
     "text": [
      "C:\\Users\\Cinthia\\Anaconda3\\lib\\site-packages\\pandas\\core\\generic.py:4401: SettingWithCopyWarning: \n",
      "A value is trying to be set on a copy of a slice from a DataFrame.\n",
      "Try using .loc[row_indexer,col_indexer] = value instead\n",
      "\n",
      "See the caveats in the documentation: http://pandas.pydata.org/pandas-docs/stable/indexing.html#indexing-view-versus-copy\n",
      "  self[name] = value\n"
     ]
    }
   ],
   "source": [
    "df_componentes_imd.id_componente = df_componentes_imd.id_componente.astype(np.int64)\n",
    "df_curriculo.id_componente = df_curriculo.id_componente.astype(np.int64)"
   ]
  },
  {
   "cell_type": "code",
   "execution_count": 7,
   "metadata": {
    "colab": {
     "base_uri": "https://localhost:8080/",
     "height": 482
    },
    "colab_type": "code",
    "id": "xrgKguxIMI1P",
    "outputId": "883f5089-4b79-4a07-c5ed-f33a470e3505"
   },
   "outputs": [
    {
     "data": {
      "text/html": [
       "<div>\n",
       "<style scoped>\n",
       "    .dataframe tbody tr th:only-of-type {\n",
       "        vertical-align: middle;\n",
       "    }\n",
       "\n",
       "    .dataframe tbody tr th {\n",
       "        vertical-align: top;\n",
       "    }\n",
       "\n",
       "    .dataframe thead th {\n",
       "        text-align: right;\n",
       "    }\n",
       "</style>\n",
       "<table border=\"1\" class=\"dataframe\">\n",
       "  <thead>\n",
       "    <tr style=\"text-align: right;\">\n",
       "      <th></th>\n",
       "      <th>id_curriculo_componente</th>\n",
       "      <th>id_curriculo</th>\n",
       "      <th>id_componente</th>\n",
       "      <th>semestre_oferta</th>\n",
       "      <th>tipo_vinculo_componente</th>\n",
       "      <th>nivel_ensino</th>\n",
       "      <th>tipo_componente</th>\n",
       "      <th>codigo</th>\n",
       "      <th>nivel</th>\n",
       "      <th>nome</th>\n",
       "      <th>ch_total</th>\n",
       "      <th>equivalencia</th>\n",
       "      <th>pre_requisito</th>\n",
       "      <th>co_requisito</th>\n",
       "    </tr>\n",
       "  </thead>\n",
       "  <tbody>\n",
       "    <tr>\n",
       "      <th>0</th>\n",
       "      <td>96348490</td>\n",
       "      <td>96335318</td>\n",
       "      <td>52682</td>\n",
       "      <td>6</td>\n",
       "      <td>OPTATIVO</td>\n",
       "      <td>GRADUAÇÃO</td>\n",
       "      <td>MODULO</td>\n",
       "      <td>IMD0406</td>\n",
       "      <td>G</td>\n",
       "      <td>PROTOCOLO E SERVIÇOS DE INTERNET</td>\n",
       "      <td>30</td>\n",
       "      <td>NaN</td>\n",
       "      <td>( IMD0043 )</td>\n",
       "      <td>NaN</td>\n",
       "    </tr>\n",
       "    <tr>\n",
       "      <th>1</th>\n",
       "      <td>105757383</td>\n",
       "      <td>105755388</td>\n",
       "      <td>52682</td>\n",
       "      <td>0</td>\n",
       "      <td>OPTATIVO</td>\n",
       "      <td>GRADUAÇÃO</td>\n",
       "      <td>MODULO</td>\n",
       "      <td>IMD0406</td>\n",
       "      <td>G</td>\n",
       "      <td>PROTOCOLO E SERVIÇOS DE INTERNET</td>\n",
       "      <td>30</td>\n",
       "      <td>NaN</td>\n",
       "      <td>( IMD0043 )</td>\n",
       "      <td>NaN</td>\n",
       "    </tr>\n",
       "    <tr>\n",
       "      <th>2</th>\n",
       "      <td>96338889</td>\n",
       "      <td>96338399</td>\n",
       "      <td>52682</td>\n",
       "      <td>5</td>\n",
       "      <td>OBRIGATÓRIO</td>\n",
       "      <td>GRADUAÇÃO</td>\n",
       "      <td>MODULO</td>\n",
       "      <td>IMD0406</td>\n",
       "      <td>G</td>\n",
       "      <td>PROTOCOLO E SERVIÇOS DE INTERNET</td>\n",
       "      <td>30</td>\n",
       "      <td>NaN</td>\n",
       "      <td>( IMD0043 )</td>\n",
       "      <td>NaN</td>\n",
       "    </tr>\n",
       "    <tr>\n",
       "      <th>3</th>\n",
       "      <td>101667945</td>\n",
       "      <td>101658777</td>\n",
       "      <td>52682</td>\n",
       "      <td>0</td>\n",
       "      <td>OPTATIVO</td>\n",
       "      <td>GRADUAÇÃO</td>\n",
       "      <td>MODULO</td>\n",
       "      <td>IMD0406</td>\n",
       "      <td>G</td>\n",
       "      <td>PROTOCOLO E SERVIÇOS DE INTERNET</td>\n",
       "      <td>30</td>\n",
       "      <td>NaN</td>\n",
       "      <td>( IMD0043 )</td>\n",
       "      <td>NaN</td>\n",
       "    </tr>\n",
       "    <tr>\n",
       "      <th>4</th>\n",
       "      <td>101668653</td>\n",
       "      <td>101668583</td>\n",
       "      <td>52682</td>\n",
       "      <td>0</td>\n",
       "      <td>OPTATIVO</td>\n",
       "      <td>GRADUAÇÃO</td>\n",
       "      <td>MODULO</td>\n",
       "      <td>IMD0406</td>\n",
       "      <td>G</td>\n",
       "      <td>PROTOCOLO E SERVIÇOS DE INTERNET</td>\n",
       "      <td>30</td>\n",
       "      <td>NaN</td>\n",
       "      <td>( IMD0043 )</td>\n",
       "      <td>NaN</td>\n",
       "    </tr>\n",
       "  </tbody>\n",
       "</table>\n",
       "</div>"
      ],
      "text/plain": [
       "   id_curriculo_componente  id_curriculo  id_componente  semestre_oferta  \\\n",
       "0                 96348490      96335318          52682                6   \n",
       "1                105757383     105755388          52682                0   \n",
       "2                 96338889      96338399          52682                5   \n",
       "3                101667945     101658777          52682                0   \n",
       "4                101668653     101668583          52682                0   \n",
       "\n",
       "  tipo_vinculo_componente nivel_ensino tipo_componente   codigo nivel  \\\n",
       "0                OPTATIVO    GRADUAÇÃO          MODULO  IMD0406     G   \n",
       "1                OPTATIVO    GRADUAÇÃO          MODULO  IMD0406     G   \n",
       "2             OBRIGATÓRIO    GRADUAÇÃO          MODULO  IMD0406     G   \n",
       "3                OPTATIVO    GRADUAÇÃO          MODULO  IMD0406     G   \n",
       "4                OPTATIVO    GRADUAÇÃO          MODULO  IMD0406     G   \n",
       "\n",
       "                               nome ch_total equivalencia pre_requisito  \\\n",
       "0  PROTOCOLO E SERVIÇOS DE INTERNET       30          NaN  ( IMD0043 )    \n",
       "1  PROTOCOLO E SERVIÇOS DE INTERNET       30          NaN  ( IMD0043 )    \n",
       "2  PROTOCOLO E SERVIÇOS DE INTERNET       30          NaN  ( IMD0043 )    \n",
       "3  PROTOCOLO E SERVIÇOS DE INTERNET       30          NaN  ( IMD0043 )    \n",
       "4  PROTOCOLO E SERVIÇOS DE INTERNET       30          NaN  ( IMD0043 )    \n",
       "\n",
       "  co_requisito  \n",
       "0          NaN  \n",
       "1          NaN  \n",
       "2          NaN  \n",
       "3          NaN  \n",
       "4          NaN  "
      ]
     },
     "execution_count": 7,
     "metadata": {},
     "output_type": "execute_result"
    }
   ],
   "source": [
    "df_curriculo_componente = pd.merge(df_curriculo, df_componentes_imd, on='id_componente')\n",
    "df_curriculo_componente.head()"
   ]
  },
  {
   "cell_type": "code",
   "execution_count": 8,
   "metadata": {
    "colab": {},
    "colab_type": "code",
    "id": "cV35n5LAMI1U"
   },
   "outputs": [],
   "source": [
    "df_componentes_obrigatorios = df_curriculo_componente[df_curriculo_componente.tipo_vinculo_componente == 'OBRIGATÓRIO']"
   ]
  },
  {
   "cell_type": "code",
   "execution_count": 9,
   "metadata": {
    "colab": {
     "base_uri": "https://localhost:8080/",
     "height": 1092
    },
    "colab_type": "code",
    "id": "wMOpSVLHMI1Y",
    "outputId": "7ad9cf40-1dda-4f5c-d89c-08d8808bac90"
   },
   "outputs": [
    {
     "data": {
      "text/plain": [
       "ESTRUTURAS DE DADOS BÁSICAS II                                             16\n",
       "PRÁTICAS DE LEITURA E ESCRITA EM PORTUGUÊS II                              16\n",
       "PRÁTICAS DE LEITURA E ESCRITA EM PORTUGUÊS I                               16\n",
       "PROBABILIDADE                                                              16\n",
       "INTRODUÇÃO ÀS TÉCNICAS DE PROGRAMAÇÃO                                      16\n",
       "CÁLCULO DIFERENCIAL E INTEGRAL I                                           16\n",
       "VETORES E GEOMETRIA ANALÍTICA                                              16\n",
       "TECNOLOGIA DA INFORMAÇÃO E SOCIEDADE                                       16\n",
       "ESTRUTURA DE DADOS BÁSICAS I                                               16\n",
       "REDES DE COMPUTADORES                                                      12\n",
       "RESOLUÇÃO DE PROBLEMAS MATEMÁTICOS PARA TI                                  9\n",
       "LINGUAGEM DE PROGRAMAÇÃO II                                                 9\n",
       "FUNDAMENTOS MATEMÁTICOS DA COMPUTAÇÃO I                                     9\n",
       "PRÁTICAS DE LEITURA EM INGLÊS                                               9\n",
       "LINGUAGEM DE PROGRAMAÇÃO I                                                  9\n",
       "FUNDAMENTOS MATEMÁTICOS DA COMPUTAÇÃO II                                    9\n",
       "SISTEMAS OPERACIONAIS                                                       8\n",
       "CIRCUITOS LÓGICOS                                                           8\n",
       "ORGANIZAÇÃO E ARQUITETURA DE COMPUTADORES                                   8\n",
       "INTRODUÇÃO AO CÁLCULO                                                       7\n",
       "PRÁTICAS DE LEITURA E ESCRITA EM INGLÊS                                     7\n",
       "LABORATÓRIO DE PROGRAMAÇÃO II                                               7\n",
       "LABORATÓRIO DE PROGRAMAÇÃO I                                                7\n",
       "ELEMENTOS DE MATEMÁTICA PARA COMPUTAÇÃO                                     7\n",
       "FUNDAMENTOS MATEMÁTICOS DA COMPUTAÇÃO                                       7\n",
       "BANCO DE DADOS                                                              6\n",
       "DESENVOLVIMENTO DE SISTEMAS WEB II                                          4\n",
       "DESENVOLVIMENTO DE SISTEMAS WEB I                                           4\n",
       "INTRODUÇÃO A ORGANIZAÇÃO E ARQUITETURA DE COMPUTADORES                      4\n",
       "INTRODUÇÃO A SISTEMAS OPERACIONAIS                                          4\n",
       "                                                                           ..\n",
       "TECNOLOGIAS EDUCACIONAIS                                                    2\n",
       "ATIVIDADES COMPLEMENTARES DE TECNOLOGIA DA INFORMAÇÃO                       2\n",
       "PROJETO INTEGRADO I                                                         2\n",
       "REDES DE SENSORES                                                           1\n",
       "FUNDAMENTOS PEDAGÓGICOS PARA A INFORMÁTICA EDUCACIONAL                      1\n",
       "SENSORES INTELIGENTES                                                       1\n",
       "CONTROLE DIGITAL                                                            1\n",
       "TEORIA DE CIRCUITOS ELÉTRICOS                                               1\n",
       "DESENVOLVIMENTO EM PLATAFORMAS ESPECÍFICAS                                  1\n",
       "PROJETOS BASEADOS EM MICROCONTROLADORES                                     1\n",
       "ATIVIDADES COMPLEMENTARES DE SISTEMAS DE INFORMAÇÃO DE GESTÃO               1\n",
       "FUNDAMENTOS PEDAGÓGICOS PARA A INFORMÁTICA EDUCACIONAL I                    1\n",
       "APRENDIZAGEM BASEADA EM PROJETOS                                            1\n",
       "METODOLOGIAS DE PROJETOS EM SISTEMAS EMBARCADOS                             1\n",
       "TÉCNICAS DE PROTOTIPAÇÃO E MONTAGEM DE CIRCUITOS E SISTEMAS ELETRÔNICOS     1\n",
       "FUNDAMENTOS PEDAGÓGICOS PARA A INFORMÁTICA EDUCACIONAL II                   1\n",
       "DESENVOLVIMENTO PARA DISPOSITIVOS MÓVEIS                                    1\n",
       "PROTOTIPAÇÃO DE CIRCUITOS IMPRESSOS                                         1\n",
       "SISTEMAS DIGITAIS RECONFIGURÁVEIS                                           1\n",
       "INTELIGÊNCIA ARTIFICIAL APLICADA À EDUCAÇÃO                                 1\n",
       "GERENCIAMENTO DE FLUXO DE PROJETOS                                          1\n",
       "INTRODUÇÃO A SISTEMAS DE CONTROLE                                           1\n",
       "ESPECIFICAÇÃO E MODELAGEM DE SISTEMAS EMBARCADOS                            1\n",
       "PROJETO DE SISTEMAS OPERACIONAIS                                            1\n",
       "PROCESSAMENTO DIGITAL DE SINAIS                                             1\n",
       "ATIVIDADES COMPLEMENTARES DE SISTEMAS EMBARCADOS                            1\n",
       "SISTEMAS HÍBRIDOS                                                           1\n",
       "ATIVIDADES COMPLEMENTARES DE INFORMÁTICA EDUCACIONAL                        1\n",
       "PROJETO DE SISTEMAS DIGITAIS I                                              1\n",
       "TESTES DE CIRCUITOS                                                         1\n",
       "Name: nome, Length: 87, dtype: int64"
      ]
     },
     "execution_count": 9,
     "metadata": {},
     "output_type": "execute_result"
    }
   ],
   "source": [
    "df_componentes_obrigatorios.nome.value_counts()"
   ]
  },
  {
   "cell_type": "code",
   "execution_count": 10,
   "metadata": {
    "colab": {},
    "colab_type": "code",
    "id": "Tcce2BfbMI1e"
   },
   "outputs": [],
   "source": [
    "df_curriculo_comum = df_componentes_obrigatorios[df_componentes_obrigatorios.id_curriculo == 101658777]"
   ]
  },
  {
   "cell_type": "code",
   "execution_count": 11,
   "metadata": {
    "colab": {},
    "colab_type": "code",
    "id": "dWkjScOpMI1j"
   },
   "outputs": [],
   "source": [
    "colunas_remover = ['id_curriculo', 'tipo_vinculo_componente', 'nivel_ensino', 'nivel', 'tipo_componente']\n",
    "df_curriculo_comum = df_curriculo_comum.drop(colunas_remover, axis=1)"
   ]
  },
  {
   "cell_type": "code",
   "execution_count": 12,
   "metadata": {
    "colab": {
     "base_uri": "https://localhost:8080/",
     "height": 395
    },
    "colab_type": "code",
    "id": "7EBR7-XPMI1n",
    "outputId": "ff4c006e-9942-4e55-9798-e076126eae21"
   },
   "outputs": [
    {
     "data": {
      "text/html": [
       "<div>\n",
       "<style scoped>\n",
       "    .dataframe tbody tr th:only-of-type {\n",
       "        vertical-align: middle;\n",
       "    }\n",
       "\n",
       "    .dataframe tbody tr th {\n",
       "        vertical-align: top;\n",
       "    }\n",
       "\n",
       "    .dataframe thead th {\n",
       "        text-align: right;\n",
       "    }\n",
       "</style>\n",
       "<table border=\"1\" class=\"dataframe\">\n",
       "  <thead>\n",
       "    <tr style=\"text-align: right;\">\n",
       "      <th></th>\n",
       "      <th>id_curriculo_componente</th>\n",
       "      <th>id_componente</th>\n",
       "      <th>semestre_oferta</th>\n",
       "      <th>codigo</th>\n",
       "      <th>nome</th>\n",
       "      <th>ch_total</th>\n",
       "      <th>equivalencia</th>\n",
       "      <th>pre_requisito</th>\n",
       "      <th>co_requisito</th>\n",
       "    </tr>\n",
       "  </thead>\n",
       "  <tbody>\n",
       "    <tr>\n",
       "      <th>26</th>\n",
       "      <td>101659808</td>\n",
       "      <td>52665</td>\n",
       "      <td>2</td>\n",
       "      <td>IMD0034</td>\n",
       "      <td>VETORES E GEOMETRIA ANALÍTICA</td>\n",
       "      <td>60</td>\n",
       "      <td>( ECT1112 E ECT1211 ) OU ( ECT2102 )</td>\n",
       "      <td>( IMD0019 )</td>\n",
       "      <td>NaN</td>\n",
       "    </tr>\n",
       "    <tr>\n",
       "      <th>102</th>\n",
       "      <td>101659833</td>\n",
       "      <td>55022</td>\n",
       "      <td>2</td>\n",
       "      <td>IMD0028</td>\n",
       "      <td>FUNDAMENTOS MATEMÁTICOS DA COMPUTAÇÃO I</td>\n",
       "      <td>90</td>\n",
       "      <td>( IMD0013 OU DIM0400 OU DIM0115 )</td>\n",
       "      <td>( IMD0019 )</td>\n",
       "      <td>NaN</td>\n",
       "    </tr>\n",
       "    <tr>\n",
       "      <th>112</th>\n",
       "      <td>101659835</td>\n",
       "      <td>52664</td>\n",
       "      <td>3</td>\n",
       "      <td>IMD0033</td>\n",
       "      <td>PROBABILIDADE</td>\n",
       "      <td>60</td>\n",
       "      <td>NaN</td>\n",
       "      <td>( IMD0024 )</td>\n",
       "      <td>NaN</td>\n",
       "    </tr>\n",
       "    <tr>\n",
       "      <th>280</th>\n",
       "      <td>101659837</td>\n",
       "      <td>55027</td>\n",
       "      <td>4</td>\n",
       "      <td>IMD0040</td>\n",
       "      <td>LINGUAGEM DE PROGRAMAÇÃO II</td>\n",
       "      <td>60</td>\n",
       "      <td>( DIM0111 ) OU ( IMD0035 ) OU ( DIM0116 )</td>\n",
       "      <td>( IMD0030 )</td>\n",
       "      <td>( IMD0039 )</td>\n",
       "    </tr>\n",
       "    <tr>\n",
       "      <th>393</th>\n",
       "      <td>101659804</td>\n",
       "      <td>55020</td>\n",
       "      <td>1</td>\n",
       "      <td>IMD0018</td>\n",
       "      <td>PRÁTICAS DE LEITURA EM INGLÊS</td>\n",
       "      <td>30</td>\n",
       "      <td>( IMD0037 OU ECT1307 OU ECT2305 )</td>\n",
       "      <td>NaN</td>\n",
       "      <td>NaN</td>\n",
       "    </tr>\n",
       "    <tr>\n",
       "      <th>425</th>\n",
       "      <td>101659803</td>\n",
       "      <td>55019</td>\n",
       "      <td>1</td>\n",
       "      <td>IMD0017</td>\n",
       "      <td>PRÁTICAS DE LEITURA E ESCRITA EM PORTUGUÊS I</td>\n",
       "      <td>30</td>\n",
       "      <td>( IMD0016 OU ECT1105 OU ECT2105 )</td>\n",
       "      <td>NaN</td>\n",
       "      <td>NaN</td>\n",
       "    </tr>\n",
       "    <tr>\n",
       "      <th>462</th>\n",
       "      <td>101659807</td>\n",
       "      <td>52650</td>\n",
       "      <td>2</td>\n",
       "      <td>IMD0012</td>\n",
       "      <td>INTRODUÇÃO ÀS TÉCNICAS DE PROGRAMAÇÃO</td>\n",
       "      <td>90</td>\n",
       "      <td>( DIM0108 ) OU ( IMD1000 ) OU ( DIM0118 )</td>\n",
       "      <td>( IMD0019 )</td>\n",
       "      <td>NaN</td>\n",
       "    </tr>\n",
       "    <tr>\n",
       "      <th>602</th>\n",
       "      <td>101659805</td>\n",
       "      <td>55031</td>\n",
       "      <td>1</td>\n",
       "      <td>IMD0019</td>\n",
       "      <td>RESOLUÇÃO DE PROBLEMAS MATEMÁTICOS PARA TI</td>\n",
       "      <td>180</td>\n",
       "      <td>( IMD0014 ) OU ( ( IMD1001 E IMD1002 E IMD1003...</td>\n",
       "      <td>NaN</td>\n",
       "      <td>NaN</td>\n",
       "    </tr>\n",
       "    <tr>\n",
       "      <th>623</th>\n",
       "      <td>101659806</td>\n",
       "      <td>55021</td>\n",
       "      <td>2</td>\n",
       "      <td>IMD0027</td>\n",
       "      <td>PRÁTICAS DE LEITURA E ESCRITA EM PORTUGUÊS II</td>\n",
       "      <td>30</td>\n",
       "      <td>( IMD0026 OU ECT1205 OU ECT2205 )</td>\n",
       "      <td>( IMD0017 )</td>\n",
       "      <td>NaN</td>\n",
       "    </tr>\n",
       "    <tr>\n",
       "      <th>632</th>\n",
       "      <td>101659811</td>\n",
       "      <td>55024</td>\n",
       "      <td>3</td>\n",
       "      <td>IMD0030</td>\n",
       "      <td>LINGUAGEM DE PROGRAMAÇÃO I</td>\n",
       "      <td>60</td>\n",
       "      <td>( DIM0110 ) OU ( IMD0025 ) OU ( DIM0120 )</td>\n",
       "      <td>( IMD0012 )</td>\n",
       "      <td>( IMD0029 )</td>\n",
       "    </tr>\n",
       "    <tr>\n",
       "      <th>822</th>\n",
       "      <td>101659834</td>\n",
       "      <td>55025</td>\n",
       "      <td>3</td>\n",
       "      <td>IMD0038</td>\n",
       "      <td>FUNDAMENTOS MATEMÁTICOS DA COMPUTAÇÃO II</td>\n",
       "      <td>90</td>\n",
       "      <td>( DIM0450 OU IMD0023 OU DIM0121 )</td>\n",
       "      <td>( IMD0028 )</td>\n",
       "      <td>NaN</td>\n",
       "    </tr>\n",
       "    <tr>\n",
       "      <th>947</th>\n",
       "      <td>101659809</td>\n",
       "      <td>52662</td>\n",
       "      <td>2</td>\n",
       "      <td>IMD0024</td>\n",
       "      <td>CÁLCULO DIFERENCIAL E INTEGRAL I</td>\n",
       "      <td>90</td>\n",
       "      <td>NaN</td>\n",
       "      <td>( IMD0019 )</td>\n",
       "      <td>NaN</td>\n",
       "    </tr>\n",
       "    <tr>\n",
       "      <th>1139</th>\n",
       "      <td>101659810</td>\n",
       "      <td>55023</td>\n",
       "      <td>3</td>\n",
       "      <td>IMD0029</td>\n",
       "      <td>ESTRUTURA DE DADOS BÁSICAS I</td>\n",
       "      <td>60</td>\n",
       "      <td>( DIM0110 ) OU ( IMD0022 ) OU ( DIM0119 )</td>\n",
       "      <td>( IMD0012 )</td>\n",
       "      <td>( IMD0030 )</td>\n",
       "    </tr>\n",
       "    <tr>\n",
       "      <th>1150</th>\n",
       "      <td>101659802</td>\n",
       "      <td>55082</td>\n",
       "      <td>1</td>\n",
       "      <td>IMD0020</td>\n",
       "      <td>TECNOLOGIA DA INFORMAÇÃO E SOCIEDADE</td>\n",
       "      <td>30</td>\n",
       "      <td>( IMD0015 ) OU ( ECT2106 )</td>\n",
       "      <td>NaN</td>\n",
       "      <td>NaN</td>\n",
       "    </tr>\n",
       "    <tr>\n",
       "      <th>1249</th>\n",
       "      <td>101659836</td>\n",
       "      <td>55026</td>\n",
       "      <td>4</td>\n",
       "      <td>IMD0039</td>\n",
       "      <td>ESTRUTURAS DE DADOS BÁSICAS II</td>\n",
       "      <td>60</td>\n",
       "      <td>( DIM0111 ) OU ( IMD0032 ) OU ( DIM0117 )</td>\n",
       "      <td>( IMD0029 )</td>\n",
       "      <td>( IMD0040 )</td>\n",
       "    </tr>\n",
       "  </tbody>\n",
       "</table>\n",
       "</div>"
      ],
      "text/plain": [
       "      id_curriculo_componente  id_componente  semestre_oferta   codigo  \\\n",
       "26                  101659808          52665                2  IMD0034   \n",
       "102                 101659833          55022                2  IMD0028   \n",
       "112                 101659835          52664                3  IMD0033   \n",
       "280                 101659837          55027                4  IMD0040   \n",
       "393                 101659804          55020                1  IMD0018   \n",
       "425                 101659803          55019                1  IMD0017   \n",
       "462                 101659807          52650                2  IMD0012   \n",
       "602                 101659805          55031                1  IMD0019   \n",
       "623                 101659806          55021                2  IMD0027   \n",
       "632                 101659811          55024                3  IMD0030   \n",
       "822                 101659834          55025                3  IMD0038   \n",
       "947                 101659809          52662                2  IMD0024   \n",
       "1139                101659810          55023                3  IMD0029   \n",
       "1150                101659802          55082                1  IMD0020   \n",
       "1249                101659836          55026                4  IMD0039   \n",
       "\n",
       "                                               nome ch_total  \\\n",
       "26                    VETORES E GEOMETRIA ANALÍTICA       60   \n",
       "102         FUNDAMENTOS MATEMÁTICOS DA COMPUTAÇÃO I       90   \n",
       "112                                   PROBABILIDADE       60   \n",
       "280                     LINGUAGEM DE PROGRAMAÇÃO II       60   \n",
       "393                   PRÁTICAS DE LEITURA EM INGLÊS       30   \n",
       "425    PRÁTICAS DE LEITURA E ESCRITA EM PORTUGUÊS I       30   \n",
       "462           INTRODUÇÃO ÀS TÉCNICAS DE PROGRAMAÇÃO       90   \n",
       "602      RESOLUÇÃO DE PROBLEMAS MATEMÁTICOS PARA TI      180   \n",
       "623   PRÁTICAS DE LEITURA E ESCRITA EM PORTUGUÊS II       30   \n",
       "632                      LINGUAGEM DE PROGRAMAÇÃO I       60   \n",
       "822        FUNDAMENTOS MATEMÁTICOS DA COMPUTAÇÃO II       90   \n",
       "947                CÁLCULO DIFERENCIAL E INTEGRAL I       90   \n",
       "1139                   ESTRUTURA DE DADOS BÁSICAS I       60   \n",
       "1150           TECNOLOGIA DA INFORMAÇÃO E SOCIEDADE       30   \n",
       "1249                 ESTRUTURAS DE DADOS BÁSICAS II       60   \n",
       "\n",
       "                                           equivalencia pre_requisito  \\\n",
       "26                ( ECT1112 E ECT1211 ) OU ( ECT2102 )   ( IMD0019 )    \n",
       "102                  ( IMD0013 OU DIM0400 OU DIM0115 )   ( IMD0019 )    \n",
       "112                                                 NaN  ( IMD0024 )    \n",
       "280          ( DIM0111 ) OU ( IMD0035 ) OU ( DIM0116 )   ( IMD0030 )    \n",
       "393                  ( IMD0037 OU ECT1307 OU ECT2305 )            NaN   \n",
       "425                  ( IMD0016 OU ECT1105 OU ECT2105 )            NaN   \n",
       "462          ( DIM0108 ) OU ( IMD1000 ) OU ( DIM0118 )   ( IMD0019 )    \n",
       "602   ( IMD0014 ) OU ( ( IMD1001 E IMD1002 E IMD1003...           NaN   \n",
       "623                  ( IMD0026 OU ECT1205 OU ECT2205 )   ( IMD0017 )    \n",
       "632          ( DIM0110 ) OU ( IMD0025 ) OU ( DIM0120 )   ( IMD0012 )    \n",
       "822                  ( DIM0450 OU IMD0023 OU DIM0121 )   ( IMD0028 )    \n",
       "947                                                 NaN  ( IMD0019 )    \n",
       "1139         ( DIM0110 ) OU ( IMD0022 ) OU ( DIM0119 )   ( IMD0012 )    \n",
       "1150                        ( IMD0015 ) OU ( ECT2106 )            NaN   \n",
       "1249         ( DIM0111 ) OU ( IMD0032 ) OU ( DIM0117 )   ( IMD0029 )    \n",
       "\n",
       "      co_requisito  \n",
       "26             NaN  \n",
       "102            NaN  \n",
       "112            NaN  \n",
       "280   ( IMD0039 )   \n",
       "393            NaN  \n",
       "425            NaN  \n",
       "462            NaN  \n",
       "602            NaN  \n",
       "623            NaN  \n",
       "632   ( IMD0029 )   \n",
       "822            NaN  \n",
       "947            NaN  \n",
       "1139  ( IMD0030 )   \n",
       "1150           NaN  \n",
       "1249  ( IMD0040 )   "
      ]
     },
     "execution_count": 12,
     "metadata": {},
     "output_type": "execute_result"
    }
   ],
   "source": [
    "df_curriculo_comum"
   ]
  },
  {
   "cell_type": "markdown",
   "metadata": {
    "colab_type": "text",
    "id": "BoEQAHe5MI1s"
   },
   "source": [
    "_____"
   ]
  },
  {
   "cell_type": "markdown",
   "metadata": {
    "colab_type": "text",
    "id": "YLHENYHpMI1t"
   },
   "source": [
    "#### 1.2 INFORMAÇÕES SOBRE TURMAS E MATRÍCULAS\n",
    "\n",
    "#### DATASETS UTILIZADOS\n",
    "\n",
    "Turmas (2015 - 2017): \n",
    "\n",
    "http://dados.ufrn.br/dataset/turmas\n",
    "\n",
    "Matriculas (2015 - 2017):\n",
    "\n",
    "http://dados.ufrn.br/dataset/matriculas-componentes\n",
    "\n",
    "INFORMAÇÕES ADICIONAIS: \n",
    "\n",
    "http://dados.ufrn.br/dataset/dados-complementares-de-discentes\n",
    "\n",
    "### CÓDIGO"
   ]
  },
  {
   "cell_type": "code",
   "execution_count": 13,
   "metadata": {
    "colab": {},
    "colab_type": "code",
    "id": "mFSlIaO0MI1w"
   },
   "outputs": [],
   "source": [
    "turma_periodo = ['dados/turmas-2015.1.csv','dados/turmas-2015.2.csv',\n",
    "                 'dados/turmas-2016.1.csv','dados/turmas-2016.2.csv', \n",
    "                 'dados/turmas-2017.1.csv','dados/turmas-2017.2.csv',]\n",
    "\n",
    "colunas = ['id_turma', 'codigo_turma','id_componente_curricular', 'ano','periodo', 'nivel_ensino', 'periodo','situacao_turma']"
   ]
  },
  {
   "cell_type": "code",
   "execution_count": 14,
   "metadata": {
    "colab": {},
    "colab_type": "code",
    "id": "g4H2ROJlMI11"
   },
   "outputs": [],
   "source": [
    "frames_turmas = [pd.read_csv(periodo, sep=';', usecols=colunas) for periodo in turma_periodo]"
   ]
  },
  {
   "cell_type": "code",
   "execution_count": 15,
   "metadata": {
    "colab": {},
    "colab_type": "code",
    "id": "Uo4Zb_z_MI15"
   },
   "outputs": [],
   "source": [
    "df_turmas = pd.concat(frames_turmas)"
   ]
  },
  {
   "cell_type": "code",
   "execution_count": 16,
   "metadata": {
    "colab": {
     "base_uri": "https://localhost:8080/",
     "height": 222
    },
    "colab_type": "code",
    "id": "gYV6kTPyMI1_",
    "outputId": "1c718891-063c-4236-89aa-4abb6a957c11"
   },
   "outputs": [
    {
     "data": {
      "text/html": [
       "<div>\n",
       "<style scoped>\n",
       "    .dataframe tbody tr th:only-of-type {\n",
       "        vertical-align: middle;\n",
       "    }\n",
       "\n",
       "    .dataframe tbody tr th {\n",
       "        vertical-align: top;\n",
       "    }\n",
       "\n",
       "    .dataframe thead th {\n",
       "        text-align: right;\n",
       "    }\n",
       "</style>\n",
       "<table border=\"1\" class=\"dataframe\">\n",
       "  <thead>\n",
       "    <tr style=\"text-align: right;\">\n",
       "      <th></th>\n",
       "      <th>id_turma</th>\n",
       "      <th>codigo_turma</th>\n",
       "      <th>id_componente_curricular</th>\n",
       "      <th>nivel_ensino</th>\n",
       "      <th>ano</th>\n",
       "      <th>periodo</th>\n",
       "      <th>situacao_turma</th>\n",
       "    </tr>\n",
       "  </thead>\n",
       "  <tbody>\n",
       "    <tr>\n",
       "      <th>0</th>\n",
       "      <td>1217099</td>\n",
       "      <td>01</td>\n",
       "      <td>52922</td>\n",
       "      <td>LATO SENSU</td>\n",
       "      <td>2015</td>\n",
       "      <td>1</td>\n",
       "      <td>CONSOLIDADA</td>\n",
       "    </tr>\n",
       "    <tr>\n",
       "      <th>1</th>\n",
       "      <td>1217100</td>\n",
       "      <td>01</td>\n",
       "      <td>52921</td>\n",
       "      <td>LATO SENSU</td>\n",
       "      <td>2015</td>\n",
       "      <td>1</td>\n",
       "      <td>CONSOLIDADA</td>\n",
       "    </tr>\n",
       "    <tr>\n",
       "      <th>2</th>\n",
       "      <td>1217101</td>\n",
       "      <td>01</td>\n",
       "      <td>52925</td>\n",
       "      <td>LATO SENSU</td>\n",
       "      <td>2015</td>\n",
       "      <td>1</td>\n",
       "      <td>CONSOLIDADA</td>\n",
       "    </tr>\n",
       "    <tr>\n",
       "      <th>3</th>\n",
       "      <td>1217102</td>\n",
       "      <td>01</td>\n",
       "      <td>52920</td>\n",
       "      <td>LATO SENSU</td>\n",
       "      <td>2015</td>\n",
       "      <td>1</td>\n",
       "      <td>CONSOLIDADA</td>\n",
       "    </tr>\n",
       "    <tr>\n",
       "      <th>4</th>\n",
       "      <td>1217102</td>\n",
       "      <td>01</td>\n",
       "      <td>52920</td>\n",
       "      <td>LATO SENSU</td>\n",
       "      <td>2015</td>\n",
       "      <td>1</td>\n",
       "      <td>CONSOLIDADA</td>\n",
       "    </tr>\n",
       "  </tbody>\n",
       "</table>\n",
       "</div>"
      ],
      "text/plain": [
       "   id_turma codigo_turma  id_componente_curricular nivel_ensino   ano  \\\n",
       "0   1217099           01                     52922   LATO SENSU  2015   \n",
       "1   1217100           01                     52921   LATO SENSU  2015   \n",
       "2   1217101           01                     52925   LATO SENSU  2015   \n",
       "3   1217102           01                     52920   LATO SENSU  2015   \n",
       "4   1217102           01                     52920   LATO SENSU  2015   \n",
       "\n",
       "   periodo situacao_turma  \n",
       "0        1    CONSOLIDADA  \n",
       "1        1    CONSOLIDADA  \n",
       "2        1    CONSOLIDADA  \n",
       "3        1    CONSOLIDADA  \n",
       "4        1    CONSOLIDADA  "
      ]
     },
     "execution_count": 16,
     "metadata": {},
     "output_type": "execute_result"
    }
   ],
   "source": [
    "df_turmas_consolidadas = df_turmas[df_turmas.situacao_turma == 'CONSOLIDADA']\n",
    "df_turmas_consolidadas.head()"
   ]
  },
  {
   "cell_type": "code",
   "execution_count": 17,
   "metadata": {
    "colab": {
     "base_uri": "https://localhost:8080/",
     "height": 141
    },
    "colab_type": "code",
    "id": "T0fN-scvMI2J",
    "outputId": "5dfd0097-cfeb-48a5-9d09-56787d8c74c0"
   },
   "outputs": [
    {
     "name": "stderr",
     "output_type": "stream",
     "text": [
      "C:\\Users\\Cinthia\\Anaconda3\\lib\\site-packages\\pandas\\core\\generic.py:4401: SettingWithCopyWarning: \n",
      "A value is trying to be set on a copy of a slice from a DataFrame.\n",
      "Try using .loc[row_indexer,col_indexer] = value instead\n",
      "\n",
      "See the caveats in the documentation: http://pandas.pydata.org/pandas-docs/stable/indexing.html#indexing-view-versus-copy\n",
      "  self[name] = value\n"
     ]
    }
   ],
   "source": [
    "df_turmas_consolidadas.id_componente_curricular = df_turmas_consolidadas.id_componente_curricular.astype(np.int64)"
   ]
  },
  {
   "cell_type": "code",
   "execution_count": 18,
   "metadata": {
    "colab": {
     "base_uri": "https://localhost:8080/",
     "height": 52
    },
    "colab_type": "code",
    "id": "4Kxgj1ruMI2O",
    "outputId": "d058d553-6bba-4029-ea33-aee0c6897074"
   },
   "outputs": [],
   "source": [
    "curriculo_comum = df_curriculo_comum.id_componente.unique()"
   ]
  },
  {
   "cell_type": "code",
   "execution_count": 19,
   "metadata": {
    "colab": {
     "base_uri": "https://localhost:8080/",
     "height": 222
    },
    "colab_type": "code",
    "id": "BueylAJFMI2S",
    "outputId": "518c5b6e-08fd-46ad-e2d1-0c3aa1fb1227"
   },
   "outputs": [
    {
     "data": {
      "text/html": [
       "<div>\n",
       "<style scoped>\n",
       "    .dataframe tbody tr th:only-of-type {\n",
       "        vertical-align: middle;\n",
       "    }\n",
       "\n",
       "    .dataframe tbody tr th {\n",
       "        vertical-align: top;\n",
       "    }\n",
       "\n",
       "    .dataframe thead th {\n",
       "        text-align: right;\n",
       "    }\n",
       "</style>\n",
       "<table border=\"1\" class=\"dataframe\">\n",
       "  <thead>\n",
       "    <tr style=\"text-align: right;\">\n",
       "      <th></th>\n",
       "      <th>id_turma</th>\n",
       "      <th>codigo_turma</th>\n",
       "      <th>id_componente_curricular</th>\n",
       "      <th>nivel_ensino</th>\n",
       "      <th>ano</th>\n",
       "      <th>periodo</th>\n",
       "      <th>situacao_turma</th>\n",
       "    </tr>\n",
       "  </thead>\n",
       "  <tbody>\n",
       "    <tr>\n",
       "      <th>564</th>\n",
       "      <td>1239374</td>\n",
       "      <td>01</td>\n",
       "      <td>55031</td>\n",
       "      <td>GRADUAÇÃO</td>\n",
       "      <td>2015</td>\n",
       "      <td>1</td>\n",
       "      <td>CONSOLIDADA</td>\n",
       "    </tr>\n",
       "    <tr>\n",
       "      <th>565</th>\n",
       "      <td>1239374</td>\n",
       "      <td>01</td>\n",
       "      <td>55031</td>\n",
       "      <td>GRADUAÇÃO</td>\n",
       "      <td>2015</td>\n",
       "      <td>1</td>\n",
       "      <td>CONSOLIDADA</td>\n",
       "    </tr>\n",
       "    <tr>\n",
       "      <th>626</th>\n",
       "      <td>1239381</td>\n",
       "      <td>02</td>\n",
       "      <td>55031</td>\n",
       "      <td>GRADUAÇÃO</td>\n",
       "      <td>2015</td>\n",
       "      <td>1</td>\n",
       "      <td>CONSOLIDADA</td>\n",
       "    </tr>\n",
       "    <tr>\n",
       "      <th>627</th>\n",
       "      <td>1239381</td>\n",
       "      <td>02</td>\n",
       "      <td>55031</td>\n",
       "      <td>GRADUAÇÃO</td>\n",
       "      <td>2015</td>\n",
       "      <td>1</td>\n",
       "      <td>CONSOLIDADA</td>\n",
       "    </tr>\n",
       "    <tr>\n",
       "      <th>658</th>\n",
       "      <td>1239386</td>\n",
       "      <td>03</td>\n",
       "      <td>55031</td>\n",
       "      <td>GRADUAÇÃO</td>\n",
       "      <td>2015</td>\n",
       "      <td>1</td>\n",
       "      <td>CONSOLIDADA</td>\n",
       "    </tr>\n",
       "  </tbody>\n",
       "</table>\n",
       "</div>"
      ],
      "text/plain": [
       "     id_turma codigo_turma  id_componente_curricular nivel_ensino   ano  \\\n",
       "564   1239374           01                     55031    GRADUAÇÃO  2015   \n",
       "565   1239374           01                     55031    GRADUAÇÃO  2015   \n",
       "626   1239381           02                     55031    GRADUAÇÃO  2015   \n",
       "627   1239381           02                     55031    GRADUAÇÃO  2015   \n",
       "658   1239386           03                     55031    GRADUAÇÃO  2015   \n",
       "\n",
       "     periodo situacao_turma  \n",
       "564        1    CONSOLIDADA  \n",
       "565        1    CONSOLIDADA  \n",
       "626        1    CONSOLIDADA  \n",
       "627        1    CONSOLIDADA  \n",
       "658        1    CONSOLIDADA  "
      ]
     },
     "execution_count": 19,
     "metadata": {},
     "output_type": "execute_result"
    }
   ],
   "source": [
    "df_comum = df_turmas_consolidadas.loc[df_turmas_consolidadas['id_componente_curricular'].isin(curriculo_comum)]\n",
    "df_comum.head()"
   ]
  },
  {
   "cell_type": "code",
   "execution_count": 20,
   "metadata": {
    "colab": {},
    "colab_type": "code",
    "id": "2KJuu7_wMI2W"
   },
   "outputs": [],
   "source": [
    "matriculas_periodo = ['dados/matricula-2015.1.csv','dados/matricula-2015.2.csv',\n",
    "                      'dados/matricula-2016.1.csv','dados/matricula-2016.2.csv',\n",
    "                      'dados/matricula-2017.1.csv','dados/matricula-2017.2.csv',]\n",
    "\n",
    "colunas_mat = ['descricao','discente','id_curso','id_turma','media_final','nota','reposicao','unidade']"
   ]
  },
  {
   "cell_type": "code",
   "execution_count": 21,
   "metadata": {
    "colab": {},
    "colab_type": "code",
    "id": "pt4PkxdcMI2Z"
   },
   "outputs": [],
   "source": [
    "frames_mat = [pd.read_csv(matric, sep=';')[colunas_mat] for matric in matriculas_periodo]"
   ]
  },
  {
   "cell_type": "code",
   "execution_count": 22,
   "metadata": {
    "colab": {},
    "colab_type": "code",
    "id": "HpdkCUfFMI2d"
   },
   "outputs": [],
   "source": [
    "df_matriculas = pd.concat(frames_mat)"
   ]
  },
  {
   "cell_type": "code",
   "execution_count": 23,
   "metadata": {
    "colab": {
     "base_uri": "https://localhost:8080/",
     "height": 224
    },
    "colab_type": "code",
    "id": "lxBdmAXXMI2g",
    "outputId": "a1b5e3a3-208e-4347-8a72-ef4513a5aa54"
   },
   "outputs": [
    {
     "data": {
      "text/html": [
       "<div>\n",
       "<style scoped>\n",
       "    .dataframe tbody tr th:only-of-type {\n",
       "        vertical-align: middle;\n",
       "    }\n",
       "\n",
       "    .dataframe tbody tr th {\n",
       "        vertical-align: top;\n",
       "    }\n",
       "\n",
       "    .dataframe thead th {\n",
       "        text-align: right;\n",
       "    }\n",
       "</style>\n",
       "<table border=\"1\" class=\"dataframe\">\n",
       "  <thead>\n",
       "    <tr style=\"text-align: right;\">\n",
       "      <th></th>\n",
       "      <th>descricao</th>\n",
       "      <th>discente</th>\n",
       "      <th>id_curso</th>\n",
       "      <th>id_turma</th>\n",
       "      <th>media_final</th>\n",
       "      <th>nota</th>\n",
       "      <th>reposicao</th>\n",
       "      <th>unidade</th>\n",
       "    </tr>\n",
       "  </thead>\n",
       "  <tbody>\n",
       "    <tr>\n",
       "      <th>0</th>\n",
       "      <td>REPROVADO</td>\n",
       "      <td>8833c0e056f90497742882bfcc81b685</td>\n",
       "      <td>100300443.0</td>\n",
       "      <td>57562481</td>\n",
       "      <td>0.0</td>\n",
       "      <td>0.0</td>\n",
       "      <td>f</td>\n",
       "      <td>2.0</td>\n",
       "    </tr>\n",
       "    <tr>\n",
       "      <th>1</th>\n",
       "      <td>REPROVADO</td>\n",
       "      <td>8833c0e056f90497742882bfcc81b685</td>\n",
       "      <td>100300443.0</td>\n",
       "      <td>57562481</td>\n",
       "      <td>0.0</td>\n",
       "      <td>0.0</td>\n",
       "      <td>f</td>\n",
       "      <td>3.0</td>\n",
       "    </tr>\n",
       "    <tr>\n",
       "      <th>2</th>\n",
       "      <td>APROVADO</td>\n",
       "      <td>7a0a661326418111f7d17aab098757aa</td>\n",
       "      <td>100300443.0</td>\n",
       "      <td>57562481</td>\n",
       "      <td>8.9</td>\n",
       "      <td>8.9</td>\n",
       "      <td>f</td>\n",
       "      <td>1.0</td>\n",
       "    </tr>\n",
       "    <tr>\n",
       "      <th>3</th>\n",
       "      <td>APROVADO</td>\n",
       "      <td>7a0a661326418111f7d17aab098757aa</td>\n",
       "      <td>100300443.0</td>\n",
       "      <td>57562481</td>\n",
       "      <td>8.9</td>\n",
       "      <td>8.9</td>\n",
       "      <td>f</td>\n",
       "      <td>2.0</td>\n",
       "    </tr>\n",
       "    <tr>\n",
       "      <th>4</th>\n",
       "      <td>APROVADO</td>\n",
       "      <td>7a0a661326418111f7d17aab098757aa</td>\n",
       "      <td>100300443.0</td>\n",
       "      <td>57562481</td>\n",
       "      <td>8.9</td>\n",
       "      <td>8.9</td>\n",
       "      <td>f</td>\n",
       "      <td>3.0</td>\n",
       "    </tr>\n",
       "  </tbody>\n",
       "</table>\n",
       "</div>"
      ],
      "text/plain": [
       "   descricao                          discente     id_curso  id_turma  \\\n",
       "0  REPROVADO  8833c0e056f90497742882bfcc81b685  100300443.0  57562481   \n",
       "1  REPROVADO  8833c0e056f90497742882bfcc81b685  100300443.0  57562481   \n",
       "2   APROVADO  7a0a661326418111f7d17aab098757aa  100300443.0  57562481   \n",
       "3   APROVADO  7a0a661326418111f7d17aab098757aa  100300443.0  57562481   \n",
       "4   APROVADO  7a0a661326418111f7d17aab098757aa  100300443.0  57562481   \n",
       "\n",
       "   media_final  nota reposicao  unidade  \n",
       "0          0.0   0.0         f      2.0  \n",
       "1          0.0   0.0         f      3.0  \n",
       "2          8.9   8.9         f      1.0  \n",
       "3          8.9   8.9         f      2.0  \n",
       "4          8.9   8.9         f      3.0  "
      ]
     },
     "execution_count": 23,
     "metadata": {},
     "output_type": "execute_result"
    }
   ],
   "source": [
    "df_matriculas.head()"
   ]
  },
  {
   "cell_type": "code",
   "execution_count": 24,
   "metadata": {
    "colab": {
     "base_uri": "https://localhost:8080/",
     "height": 275
    },
    "colab_type": "code",
    "id": "WpYC7NCmMI2o",
    "outputId": "2c4db747-2397-457c-8d2c-49d4d081f9da"
   },
   "outputs": [
    {
     "data": {
      "text/html": [
       "<div>\n",
       "<style scoped>\n",
       "    .dataframe tbody tr th:only-of-type {\n",
       "        vertical-align: middle;\n",
       "    }\n",
       "\n",
       "    .dataframe tbody tr th {\n",
       "        vertical-align: top;\n",
       "    }\n",
       "\n",
       "    .dataframe thead th {\n",
       "        text-align: right;\n",
       "    }\n",
       "</style>\n",
       "<table border=\"1\" class=\"dataframe\">\n",
       "  <thead>\n",
       "    <tr style=\"text-align: right;\">\n",
       "      <th></th>\n",
       "      <th>id_turma</th>\n",
       "      <th>codigo_turma</th>\n",
       "      <th>id_componente_curricular</th>\n",
       "      <th>nivel_ensino</th>\n",
       "      <th>ano</th>\n",
       "      <th>periodo</th>\n",
       "      <th>situacao_turma</th>\n",
       "      <th>descricao</th>\n",
       "      <th>discente</th>\n",
       "      <th>id_curso</th>\n",
       "      <th>media_final</th>\n",
       "      <th>nota</th>\n",
       "      <th>reposicao</th>\n",
       "      <th>unidade</th>\n",
       "    </tr>\n",
       "  </thead>\n",
       "  <tbody>\n",
       "    <tr>\n",
       "      <th>0</th>\n",
       "      <td>1239374</td>\n",
       "      <td>01</td>\n",
       "      <td>55031</td>\n",
       "      <td>GRADUAÇÃO</td>\n",
       "      <td>2015</td>\n",
       "      <td>1</td>\n",
       "      <td>CONSOLIDADA</td>\n",
       "      <td>APROVADO POR NOTA</td>\n",
       "      <td>a8e2e545c4b9385773d1fd98188f6f59</td>\n",
       "      <td>92127264.0</td>\n",
       "      <td>6.9</td>\n",
       "      <td>6.9</td>\n",
       "      <td>f</td>\n",
       "      <td>1.0</td>\n",
       "    </tr>\n",
       "    <tr>\n",
       "      <th>1</th>\n",
       "      <td>1239374</td>\n",
       "      <td>01</td>\n",
       "      <td>55031</td>\n",
       "      <td>GRADUAÇÃO</td>\n",
       "      <td>2015</td>\n",
       "      <td>1</td>\n",
       "      <td>CONSOLIDADA</td>\n",
       "      <td>APROVADO POR NOTA</td>\n",
       "      <td>a8e2e545c4b9385773d1fd98188f6f59</td>\n",
       "      <td>92127264.0</td>\n",
       "      <td>6.9</td>\n",
       "      <td>7.5</td>\n",
       "      <td>f</td>\n",
       "      <td>2.0</td>\n",
       "    </tr>\n",
       "    <tr>\n",
       "      <th>2</th>\n",
       "      <td>1239374</td>\n",
       "      <td>01</td>\n",
       "      <td>55031</td>\n",
       "      <td>GRADUAÇÃO</td>\n",
       "      <td>2015</td>\n",
       "      <td>1</td>\n",
       "      <td>CONSOLIDADA</td>\n",
       "      <td>APROVADO POR NOTA</td>\n",
       "      <td>a8e2e545c4b9385773d1fd98188f6f59</td>\n",
       "      <td>92127264.0</td>\n",
       "      <td>6.9</td>\n",
       "      <td>6.4</td>\n",
       "      <td>f</td>\n",
       "      <td>3.0</td>\n",
       "    </tr>\n",
       "    <tr>\n",
       "      <th>3</th>\n",
       "      <td>1239374</td>\n",
       "      <td>01</td>\n",
       "      <td>55031</td>\n",
       "      <td>GRADUAÇÃO</td>\n",
       "      <td>2015</td>\n",
       "      <td>1</td>\n",
       "      <td>CONSOLIDADA</td>\n",
       "      <td>APROVADO</td>\n",
       "      <td>43d1599597afbfed9686ba29bbe77507</td>\n",
       "      <td>92127264.0</td>\n",
       "      <td>8.6</td>\n",
       "      <td>9.5</td>\n",
       "      <td>f</td>\n",
       "      <td>1.0</td>\n",
       "    </tr>\n",
       "    <tr>\n",
       "      <th>4</th>\n",
       "      <td>1239374</td>\n",
       "      <td>01</td>\n",
       "      <td>55031</td>\n",
       "      <td>GRADUAÇÃO</td>\n",
       "      <td>2015</td>\n",
       "      <td>1</td>\n",
       "      <td>CONSOLIDADA</td>\n",
       "      <td>APROVADO</td>\n",
       "      <td>43d1599597afbfed9686ba29bbe77507</td>\n",
       "      <td>92127264.0</td>\n",
       "      <td>8.6</td>\n",
       "      <td>8.6</td>\n",
       "      <td>f</td>\n",
       "      <td>2.0</td>\n",
       "    </tr>\n",
       "  </tbody>\n",
       "</table>\n",
       "</div>"
      ],
      "text/plain": [
       "   id_turma codigo_turma  id_componente_curricular nivel_ensino   ano  \\\n",
       "0   1239374           01                     55031    GRADUAÇÃO  2015   \n",
       "1   1239374           01                     55031    GRADUAÇÃO  2015   \n",
       "2   1239374           01                     55031    GRADUAÇÃO  2015   \n",
       "3   1239374           01                     55031    GRADUAÇÃO  2015   \n",
       "4   1239374           01                     55031    GRADUAÇÃO  2015   \n",
       "\n",
       "   periodo situacao_turma          descricao  \\\n",
       "0        1    CONSOLIDADA  APROVADO POR NOTA   \n",
       "1        1    CONSOLIDADA  APROVADO POR NOTA   \n",
       "2        1    CONSOLIDADA  APROVADO POR NOTA   \n",
       "3        1    CONSOLIDADA           APROVADO   \n",
       "4        1    CONSOLIDADA           APROVADO   \n",
       "\n",
       "                           discente    id_curso  media_final  nota reposicao  \\\n",
       "0  a8e2e545c4b9385773d1fd98188f6f59  92127264.0          6.9   6.9         f   \n",
       "1  a8e2e545c4b9385773d1fd98188f6f59  92127264.0          6.9   7.5         f   \n",
       "2  a8e2e545c4b9385773d1fd98188f6f59  92127264.0          6.9   6.4         f   \n",
       "3  43d1599597afbfed9686ba29bbe77507  92127264.0          8.6   9.5         f   \n",
       "4  43d1599597afbfed9686ba29bbe77507  92127264.0          8.6   8.6         f   \n",
       "\n",
       "   unidade  \n",
       "0      1.0  \n",
       "1      2.0  \n",
       "2      3.0  \n",
       "3      1.0  \n",
       "4      2.0  "
      ]
     },
     "execution_count": 24,
     "metadata": {},
     "output_type": "execute_result"
    }
   ],
   "source": [
    "df_turma_matricula = pd.merge(df_comum, df_matriculas, on='id_turma')\n",
    "df_turma_matricula.head()"
   ]
  },
  {
   "cell_type": "code",
   "execution_count": 25,
   "metadata": {
    "colab": {},
    "colab_type": "code",
    "id": "D_4jPpCBMI2w"
   },
   "outputs": [],
   "source": [
    "colunas_remover = ['codigo_turma', 'nivel_ensino', 'situacao_turma']\n",
    "df_turma_matricula = df_turma_matricula.drop(colunas_remover, axis=1)"
   ]
  },
  {
   "cell_type": "code",
   "execution_count": 26,
   "metadata": {
    "colab": {
     "base_uri": "https://localhost:8080/",
     "height": 275
    },
    "colab_type": "code",
    "id": "09f7gubDMI22",
    "outputId": "457fd1c5-397f-48e7-a894-a8bb9c91f90d"
   },
   "outputs": [
    {
     "data": {
      "text/html": [
       "<div>\n",
       "<style scoped>\n",
       "    .dataframe tbody tr th:only-of-type {\n",
       "        vertical-align: middle;\n",
       "    }\n",
       "\n",
       "    .dataframe tbody tr th {\n",
       "        vertical-align: top;\n",
       "    }\n",
       "\n",
       "    .dataframe thead th {\n",
       "        text-align: right;\n",
       "    }\n",
       "</style>\n",
       "<table border=\"1\" class=\"dataframe\">\n",
       "  <thead>\n",
       "    <tr style=\"text-align: right;\">\n",
       "      <th></th>\n",
       "      <th>id_turma</th>\n",
       "      <th>id_componente</th>\n",
       "      <th>ano</th>\n",
       "      <th>periodo</th>\n",
       "      <th>descricao</th>\n",
       "      <th>discente</th>\n",
       "      <th>id_curso</th>\n",
       "      <th>media_final</th>\n",
       "      <th>nota</th>\n",
       "      <th>reposicao</th>\n",
       "      <th>unidade</th>\n",
       "    </tr>\n",
       "  </thead>\n",
       "  <tbody>\n",
       "    <tr>\n",
       "      <th>0</th>\n",
       "      <td>1239374</td>\n",
       "      <td>55031</td>\n",
       "      <td>2015</td>\n",
       "      <td>1</td>\n",
       "      <td>APROVADO POR NOTA</td>\n",
       "      <td>a8e2e545c4b9385773d1fd98188f6f59</td>\n",
       "      <td>92127264.0</td>\n",
       "      <td>6.9</td>\n",
       "      <td>6.9</td>\n",
       "      <td>f</td>\n",
       "      <td>1.0</td>\n",
       "    </tr>\n",
       "    <tr>\n",
       "      <th>1</th>\n",
       "      <td>1239374</td>\n",
       "      <td>55031</td>\n",
       "      <td>2015</td>\n",
       "      <td>1</td>\n",
       "      <td>APROVADO POR NOTA</td>\n",
       "      <td>a8e2e545c4b9385773d1fd98188f6f59</td>\n",
       "      <td>92127264.0</td>\n",
       "      <td>6.9</td>\n",
       "      <td>7.5</td>\n",
       "      <td>f</td>\n",
       "      <td>2.0</td>\n",
       "    </tr>\n",
       "    <tr>\n",
       "      <th>2</th>\n",
       "      <td>1239374</td>\n",
       "      <td>55031</td>\n",
       "      <td>2015</td>\n",
       "      <td>1</td>\n",
       "      <td>APROVADO POR NOTA</td>\n",
       "      <td>a8e2e545c4b9385773d1fd98188f6f59</td>\n",
       "      <td>92127264.0</td>\n",
       "      <td>6.9</td>\n",
       "      <td>6.4</td>\n",
       "      <td>f</td>\n",
       "      <td>3.0</td>\n",
       "    </tr>\n",
       "    <tr>\n",
       "      <th>3</th>\n",
       "      <td>1239374</td>\n",
       "      <td>55031</td>\n",
       "      <td>2015</td>\n",
       "      <td>1</td>\n",
       "      <td>APROVADO</td>\n",
       "      <td>43d1599597afbfed9686ba29bbe77507</td>\n",
       "      <td>92127264.0</td>\n",
       "      <td>8.6</td>\n",
       "      <td>9.5</td>\n",
       "      <td>f</td>\n",
       "      <td>1.0</td>\n",
       "    </tr>\n",
       "    <tr>\n",
       "      <th>4</th>\n",
       "      <td>1239374</td>\n",
       "      <td>55031</td>\n",
       "      <td>2015</td>\n",
       "      <td>1</td>\n",
       "      <td>APROVADO</td>\n",
       "      <td>43d1599597afbfed9686ba29bbe77507</td>\n",
       "      <td>92127264.0</td>\n",
       "      <td>8.6</td>\n",
       "      <td>8.6</td>\n",
       "      <td>f</td>\n",
       "      <td>2.0</td>\n",
       "    </tr>\n",
       "  </tbody>\n",
       "</table>\n",
       "</div>"
      ],
      "text/plain": [
       "   id_turma  id_componente   ano  periodo          descricao  \\\n",
       "0   1239374          55031  2015        1  APROVADO POR NOTA   \n",
       "1   1239374          55031  2015        1  APROVADO POR NOTA   \n",
       "2   1239374          55031  2015        1  APROVADO POR NOTA   \n",
       "3   1239374          55031  2015        1           APROVADO   \n",
       "4   1239374          55031  2015        1           APROVADO   \n",
       "\n",
       "                           discente    id_curso  media_final  nota reposicao  \\\n",
       "0  a8e2e545c4b9385773d1fd98188f6f59  92127264.0          6.9   6.9         f   \n",
       "1  a8e2e545c4b9385773d1fd98188f6f59  92127264.0          6.9   7.5         f   \n",
       "2  a8e2e545c4b9385773d1fd98188f6f59  92127264.0          6.9   6.4         f   \n",
       "3  43d1599597afbfed9686ba29bbe77507  92127264.0          8.6   9.5         f   \n",
       "4  43d1599597afbfed9686ba29bbe77507  92127264.0          8.6   8.6         f   \n",
       "\n",
       "   unidade  \n",
       "0      1.0  \n",
       "1      2.0  \n",
       "2      3.0  \n",
       "3      1.0  \n",
       "4      2.0  "
      ]
     },
     "execution_count": 26,
     "metadata": {},
     "output_type": "execute_result"
    }
   ],
   "source": [
    "df_turma_matricula.rename(columns={'id_componente_curricular': 'id_componente'}, inplace=True)\n",
    "df_turma_matricula.head()"
   ]
  },
  {
   "cell_type": "code",
   "execution_count": 27,
   "metadata": {
    "colab": {
     "base_uri": "https://localhost:8080/",
     "height": 275
    },
    "colab_type": "code",
    "id": "093ExqHiMI26",
    "outputId": "24146846-dc31-4805-f35f-9d4e45e5d3ac"
   },
   "outputs": [
    {
     "data": {
      "text/html": [
       "<div>\n",
       "<style scoped>\n",
       "    .dataframe tbody tr th:only-of-type {\n",
       "        vertical-align: middle;\n",
       "    }\n",
       "\n",
       "    .dataframe tbody tr th {\n",
       "        vertical-align: top;\n",
       "    }\n",
       "\n",
       "    .dataframe thead th {\n",
       "        text-align: right;\n",
       "    }\n",
       "</style>\n",
       "<table border=\"1\" class=\"dataframe\">\n",
       "  <thead>\n",
       "    <tr style=\"text-align: right;\">\n",
       "      <th></th>\n",
       "      <th>id_turma</th>\n",
       "      <th>id_componente</th>\n",
       "      <th>ano</th>\n",
       "      <th>periodo</th>\n",
       "      <th>descricao</th>\n",
       "      <th>discente</th>\n",
       "      <th>id_curso</th>\n",
       "      <th>media_final</th>\n",
       "      <th>nota</th>\n",
       "      <th>reposicao</th>\n",
       "      <th>unidade</th>\n",
       "    </tr>\n",
       "  </thead>\n",
       "  <tbody>\n",
       "    <tr>\n",
       "      <th>0</th>\n",
       "      <td>1239374</td>\n",
       "      <td>55031</td>\n",
       "      <td>2015</td>\n",
       "      <td>1</td>\n",
       "      <td>APROVADO POR NOTA</td>\n",
       "      <td>a8e2e545c4b9385773d1fd98188f6f59</td>\n",
       "      <td>92127264.0</td>\n",
       "      <td>6.9</td>\n",
       "      <td>6.9</td>\n",
       "      <td>f</td>\n",
       "      <td>1.0</td>\n",
       "    </tr>\n",
       "    <tr>\n",
       "      <th>1</th>\n",
       "      <td>1239374</td>\n",
       "      <td>55031</td>\n",
       "      <td>2015</td>\n",
       "      <td>1</td>\n",
       "      <td>APROVADO POR NOTA</td>\n",
       "      <td>a8e2e545c4b9385773d1fd98188f6f59</td>\n",
       "      <td>92127264.0</td>\n",
       "      <td>6.9</td>\n",
       "      <td>7.5</td>\n",
       "      <td>f</td>\n",
       "      <td>2.0</td>\n",
       "    </tr>\n",
       "    <tr>\n",
       "      <th>2</th>\n",
       "      <td>1239374</td>\n",
       "      <td>55031</td>\n",
       "      <td>2015</td>\n",
       "      <td>1</td>\n",
       "      <td>APROVADO POR NOTA</td>\n",
       "      <td>a8e2e545c4b9385773d1fd98188f6f59</td>\n",
       "      <td>92127264.0</td>\n",
       "      <td>6.9</td>\n",
       "      <td>6.4</td>\n",
       "      <td>f</td>\n",
       "      <td>3.0</td>\n",
       "    </tr>\n",
       "    <tr>\n",
       "      <th>3</th>\n",
       "      <td>1239374</td>\n",
       "      <td>55031</td>\n",
       "      <td>2015</td>\n",
       "      <td>1</td>\n",
       "      <td>APROVADO</td>\n",
       "      <td>43d1599597afbfed9686ba29bbe77507</td>\n",
       "      <td>92127264.0</td>\n",
       "      <td>8.6</td>\n",
       "      <td>9.5</td>\n",
       "      <td>f</td>\n",
       "      <td>1.0</td>\n",
       "    </tr>\n",
       "    <tr>\n",
       "      <th>4</th>\n",
       "      <td>1239374</td>\n",
       "      <td>55031</td>\n",
       "      <td>2015</td>\n",
       "      <td>1</td>\n",
       "      <td>APROVADO</td>\n",
       "      <td>43d1599597afbfed9686ba29bbe77507</td>\n",
       "      <td>92127264.0</td>\n",
       "      <td>8.6</td>\n",
       "      <td>8.6</td>\n",
       "      <td>f</td>\n",
       "      <td>2.0</td>\n",
       "    </tr>\n",
       "  </tbody>\n",
       "</table>\n",
       "</div>"
      ],
      "text/plain": [
       "   id_turma  id_componente   ano  periodo          descricao  \\\n",
       "0   1239374          55031  2015        1  APROVADO POR NOTA   \n",
       "1   1239374          55031  2015        1  APROVADO POR NOTA   \n",
       "2   1239374          55031  2015        1  APROVADO POR NOTA   \n",
       "3   1239374          55031  2015        1           APROVADO   \n",
       "4   1239374          55031  2015        1           APROVADO   \n",
       "\n",
       "                           discente    id_curso  media_final  nota reposicao  \\\n",
       "0  a8e2e545c4b9385773d1fd98188f6f59  92127264.0          6.9   6.9         f   \n",
       "1  a8e2e545c4b9385773d1fd98188f6f59  92127264.0          6.9   7.5         f   \n",
       "2  a8e2e545c4b9385773d1fd98188f6f59  92127264.0          6.9   6.4         f   \n",
       "3  43d1599597afbfed9686ba29bbe77507  92127264.0          8.6   9.5         f   \n",
       "4  43d1599597afbfed9686ba29bbe77507  92127264.0          8.6   8.6         f   \n",
       "\n",
       "   unidade  \n",
       "0      1.0  \n",
       "1      2.0  \n",
       "2      3.0  \n",
       "3      1.0  \n",
       "4      2.0  "
      ]
     },
     "execution_count": 27,
     "metadata": {},
     "output_type": "execute_result"
    }
   ],
   "source": [
    "df_turma_matricula = df_turma_matricula.loc[~df_turma_matricula['descricao'].isin(['INDEFERIDO', 'CANCELADO', 'EXCLUIDA', 'DESISTENCIA'])]\n",
    "df_turma_matricula.head()"
   ]
  },
  {
   "cell_type": "code",
   "execution_count": 28,
   "metadata": {
    "colab": {
     "base_uri": "https://localhost:8080/",
     "height": 377
    },
    "colab_type": "code",
    "id": "3OQ63ofjMI2-",
    "outputId": "b2bb481d-10f6-42eb-eb47-f848e169faf5"
   },
   "outputs": [
    {
     "data": {
      "text/html": [
       "<div>\n",
       "<style scoped>\n",
       "    .dataframe tbody tr th:only-of-type {\n",
       "        vertical-align: middle;\n",
       "    }\n",
       "\n",
       "    .dataframe tbody tr th {\n",
       "        vertical-align: top;\n",
       "    }\n",
       "\n",
       "    .dataframe thead th {\n",
       "        text-align: right;\n",
       "    }\n",
       "</style>\n",
       "<table border=\"1\" class=\"dataframe\">\n",
       "  <thead>\n",
       "    <tr style=\"text-align: right;\">\n",
       "      <th></th>\n",
       "      <th>discente</th>\n",
       "      <th>sexo</th>\n",
       "      <th>data_nascimento</th>\n",
       "      <th>raca</th>\n",
       "      <th>estado_origem</th>\n",
       "      <th>cidade_origem</th>\n",
       "      <th>estado</th>\n",
       "      <th>municipio</th>\n",
       "      <th>bairro</th>\n",
       "      <th>nivel_ensino</th>\n",
       "      <th>forma_ingresso</th>\n",
       "      <th>ano_ingresso</th>\n",
       "      <th>periodo_ingresso</th>\n",
       "      <th>cotista</th>\n",
       "    </tr>\n",
       "  </thead>\n",
       "  <tbody>\n",
       "    <tr>\n",
       "      <th>0</th>\n",
       "      <td>0e356f33d9f25c70bd7b98ef1bd1ecd4</td>\n",
       "      <td>M</td>\n",
       "      <td>03-10-1943</td>\n",
       "      <td>Não Informado</td>\n",
       "      <td>Rio Grande do Norte</td>\n",
       "      <td>NATAL</td>\n",
       "      <td>Rio Grande do Norte</td>\n",
       "      <td>NATAL</td>\n",
       "      <td>NEOPOLIS</td>\n",
       "      <td>GRADUAÇÃO</td>\n",
       "      <td>VESTIBULAR</td>\n",
       "      <td>1969</td>\n",
       "      <td>1.0</td>\n",
       "      <td>f</td>\n",
       "    </tr>\n",
       "    <tr>\n",
       "      <th>1</th>\n",
       "      <td>a3f7753971d7ca9c1648616b1f7e4c48</td>\n",
       "      <td>M</td>\n",
       "      <td>21-02-1949</td>\n",
       "      <td>Não Informado</td>\n",
       "      <td>Rio de Janeiro</td>\n",
       "      <td>NaN</td>\n",
       "      <td>NaN</td>\n",
       "      <td>NaN</td>\n",
       "      <td>NaN</td>\n",
       "      <td>GRADUAÇÃO</td>\n",
       "      <td>VESTIBULAR</td>\n",
       "      <td>1970</td>\n",
       "      <td>1.0</td>\n",
       "      <td>f</td>\n",
       "    </tr>\n",
       "    <tr>\n",
       "      <th>2</th>\n",
       "      <td>d29e0a56e3cc973750e2d2cbabedc449</td>\n",
       "      <td>F</td>\n",
       "      <td>09-09-1947</td>\n",
       "      <td>Não Informado</td>\n",
       "      <td>NaN</td>\n",
       "      <td>NaN</td>\n",
       "      <td>NaN</td>\n",
       "      <td>NaN</td>\n",
       "      <td>NaN</td>\n",
       "      <td>GRADUAÇÃO</td>\n",
       "      <td>VESTIBULAR</td>\n",
       "      <td>1970</td>\n",
       "      <td>1.0</td>\n",
       "      <td>f</td>\n",
       "    </tr>\n",
       "    <tr>\n",
       "      <th>3</th>\n",
       "      <td>d4f89fe5c6dd43692b3c1fc4ce324fd5</td>\n",
       "      <td>M</td>\n",
       "      <td>22-04-1949</td>\n",
       "      <td>Não Informado</td>\n",
       "      <td>Rio Grande do Norte</td>\n",
       "      <td>NaN</td>\n",
       "      <td>NaN</td>\n",
       "      <td>NaN</td>\n",
       "      <td>NaN</td>\n",
       "      <td>GRADUAÇÃO</td>\n",
       "      <td>VESTIBULAR</td>\n",
       "      <td>1970</td>\n",
       "      <td>1.0</td>\n",
       "      <td>f</td>\n",
       "    </tr>\n",
       "    <tr>\n",
       "      <th>4</th>\n",
       "      <td>e2f244371122aea4140427ada6f391b4</td>\n",
       "      <td>M</td>\n",
       "      <td>21-03-1944</td>\n",
       "      <td>Não Informado</td>\n",
       "      <td>Rio Grande do Norte</td>\n",
       "      <td>NATAL</td>\n",
       "      <td>Rio Grande do Norte</td>\n",
       "      <td>NATAL</td>\n",
       "      <td>ALECRIM</td>\n",
       "      <td>GRADUAÇÃO</td>\n",
       "      <td>VESTIBULAR</td>\n",
       "      <td>1970</td>\n",
       "      <td>1.0</td>\n",
       "      <td>f</td>\n",
       "    </tr>\n",
       "  </tbody>\n",
       "</table>\n",
       "</div>"
      ],
      "text/plain": [
       "                           discente sexo data_nascimento           raca  \\\n",
       "0  0e356f33d9f25c70bd7b98ef1bd1ecd4    M      03-10-1943  Não Informado   \n",
       "1  a3f7753971d7ca9c1648616b1f7e4c48    M      21-02-1949  Não Informado   \n",
       "2  d29e0a56e3cc973750e2d2cbabedc449    F      09-09-1947  Não Informado   \n",
       "3  d4f89fe5c6dd43692b3c1fc4ce324fd5    M      22-04-1949  Não Informado   \n",
       "4  e2f244371122aea4140427ada6f391b4    M      21-03-1944  Não Informado   \n",
       "\n",
       "         estado_origem cidade_origem               estado municipio    bairro  \\\n",
       "0  Rio Grande do Norte         NATAL  Rio Grande do Norte     NATAL  NEOPOLIS   \n",
       "1       Rio de Janeiro           NaN                  NaN       NaN       NaN   \n",
       "2                  NaN           NaN                  NaN       NaN       NaN   \n",
       "3  Rio Grande do Norte           NaN                  NaN       NaN       NaN   \n",
       "4  Rio Grande do Norte         NATAL  Rio Grande do Norte     NATAL   ALECRIM   \n",
       "\n",
       "  nivel_ensino forma_ingresso  ano_ingresso  periodo_ingresso cotista  \n",
       "0    GRADUAÇÃO     VESTIBULAR          1969               1.0       f  \n",
       "1    GRADUAÇÃO     VESTIBULAR          1970               1.0       f  \n",
       "2    GRADUAÇÃO     VESTIBULAR          1970               1.0       f  \n",
       "3    GRADUAÇÃO     VESTIBULAR          1970               1.0       f  \n",
       "4    GRADUAÇÃO     VESTIBULAR          1970               1.0       f  "
      ]
     },
     "execution_count": 28,
     "metadata": {},
     "output_type": "execute_result"
    }
   ],
   "source": [
    "df_info_complementar = pd.read_csv('http://dados.ufrn.br/dataset/80b1a8e9-2e40-4c6c-97ea-d595a3c8b8f5/resource/0e287fe5-badb-4b34-b1bf-8815db5dfbeb/download/dados-pessoais-discentes',\n",
    "sep=';')\n",
    "df_info_complementar.rename(columns={'id_discente': 'discente'}, inplace=True)\n",
    "\n",
    "df_info_complementar.head()"
   ]
  },
  {
   "cell_type": "code",
   "execution_count": 29,
   "metadata": {
    "colab": {
     "base_uri": "https://localhost:8080/",
     "height": 544
    },
    "colab_type": "code",
    "id": "x4D_r3rpMI3E",
    "outputId": "d3f380c5-9a45-490b-8771-a022830aa616"
   },
   "outputs": [
    {
     "name": "stdout",
     "output_type": "stream",
     "text": [
      "<class 'pandas.core.frame.DataFrame'>\n",
      "Int64Index: 34967 entries, 0 to 34966\n",
      "Data columns (total 24 columns):\n",
      "id_turma            34967 non-null int64\n",
      "id_componente       34967 non-null int64\n",
      "ano                 34967 non-null int64\n",
      "periodo             34967 non-null int64\n",
      "descricao           34967 non-null object\n",
      "discente            34967 non-null object\n",
      "id_curso            34887 non-null float64\n",
      "media_final         34048 non-null float64\n",
      "nota                34098 non-null float64\n",
      "reposicao           34589 non-null object\n",
      "unidade             34589 non-null float64\n",
      "sexo                34967 non-null object\n",
      "data_nascimento     34967 non-null object\n",
      "raca                34967 non-null object\n",
      "estado_origem       34874 non-null object\n",
      "cidade_origem       34940 non-null object\n",
      "estado              34508 non-null object\n",
      "municipio           34508 non-null object\n",
      "bairro              30377 non-null object\n",
      "nivel_ensino        34967 non-null object\n",
      "forma_ingresso      34967 non-null object\n",
      "ano_ingresso        34967 non-null int64\n",
      "periodo_ingresso    34967 non-null float64\n",
      "cotista             34967 non-null object\n",
      "dtypes: float64(5), int64(5), object(14)\n",
      "memory usage: 6.7+ MB\n"
     ]
    }
   ],
   "source": [
    "df_info = pd.merge(df_turma_matricula, df_info_complementar, on='discente')\n",
    "df_info.drop(['nivel_ensino','ano_ingresso', 'periodo_ingresso'], axis=1)\n",
    "df_info.info()"
   ]
  },
  {
   "cell_type": "markdown",
   "metadata": {
    "colab_type": "text",
    "id": "nfgUQ_T6MI3J"
   },
   "source": [
    "____"
   ]
  },
  {
   "cell_type": "markdown",
   "metadata": {
    "colab_type": "text",
    "id": "EvCBGnIjMI3L"
   },
   "source": [
    "# WHAT COMES NEXT?\n",
    "\n",
    "#### TAREFA:\n",
    "\n",
    "* Análise\n",
    "* Plotagem\n",
    "* Conclusão\n",
    "_____"
   ]
  },
  {
   "cell_type": "markdown",
   "metadata": {},
   "source": [
    "### O que mais afeta o desempenho dos alunos nas disciplinas?\n",
    "\n",
    "#### Questionamentos \n",
    "\n",
    "- Os alunos que entraram com cotas possui desempenho melhor ou pior que os não cotistas?\n",
    "- Os alunos apresentam melhor desempenho em alguma unidade em particular?\n",
    "- Qual o comportamento dos alunos quando tiram nota ruim?\n",
    "- Qual o comportamento dos alunos quando vão para quarta prova? Quantos passam?\n",
    "- Algum componente possui rendimento melhor/pior?\n",
    "- Algum semestre possui rendimento melhor/pior?"
   ]
  },
  {
   "cell_type": "code",
   "execution_count": 42,
   "metadata": {
    "colab": {},
    "colab_type": "code",
    "id": "hVzkEKIfj8BG"
   },
   "outputs": [],
   "source": [
    "cotistas = df_info[df_info.cotista == 't']\n",
    "n_cotistas = df_info[df_info.cotista == 'f']"
   ]
  },
  {
   "cell_type": "code",
   "execution_count": 43,
   "metadata": {},
   "outputs": [
    {
     "name": "stdout",
     "output_type": "stream",
     "text": [
      "\n",
      "COTISTAS\n",
      "APROVADO POR NOTA                   37.650027\n",
      "REPROVADO                           21.556192\n",
      "APROVADO                            21.283415\n",
      "REPROVADO POR MÉDIA E POR FALTAS    16.973541\n",
      "TRANCADO                             2.277687\n",
      "REPROVADO POR NOTA                   0.163666\n",
      "REPROVADO POR FALTAS                 0.081833\n",
      "REPROVADO POR NOTA E FALTA           0.013639\n",
      "Name: descricao, dtype: float64\n",
      "\n",
      "NÃO COTISTAS\n",
      "APROVADO POR NOTA                   36.861548\n",
      "APROVADO                            22.223317\n",
      "REPROVADO                           21.647047\n",
      "REPROVADO POR MÉDIA E POR FALTAS    16.071517\n",
      "TRANCADO                             2.901049\n",
      "REPROVADO POR NOTA                   0.201941\n",
      "REPROVADO POR FALTAS                 0.093582\n",
      "Name: descricao, dtype: float64\n"
     ]
    }
   ],
   "source": [
    "print(\"\\nCOTISTAS\")\n",
    "print(cotistas.descricao.value_counts(normalize=True)*100)\n",
    "print(\"\\nNÃO COTISTAS\")\n",
    "print(n_cotistas.descricao.value_counts(normalize=True)*100)"
   ]
  },
  {
   "cell_type": "code",
   "execution_count": 44,
   "metadata": {
    "colab": {},
    "colab_type": "code",
    "id": "7n0Castjj4bq"
   },
   "outputs": [
    {
     "data": {
      "image/png": "[encoded data removed]",
      "text/plain": [
       "<Figure size 1152x504 with 1 Axes>"
      ]
     },
     "metadata": {},
     "output_type": "display_data"
    },
    {
     "data": {
      "image/png": "[encoded data removed]",
      "text/plain": [
       "<Figure size 1152x504 with 1 Axes>"
      ]
     },
     "metadata": {},
     "output_type": "display_data"
    }
   ],
   "source": [
    "# Cotista\n",
    "n_sizes = 100. * cotistas.descricao.value_counts(normalize=True) \n",
    "labels = n_sizes.index\n",
    "sizes = n_sizes.values\n",
    "\n",
    "fig1, ax1 = plt.subplots()\n",
    "\n",
    "ax1.pie(sizes, labels=labels, autopct='%1.1f%%',\n",
    "        shadow=True, startangle=90)\n",
    "ax1.axis('equal') \n",
    "\n",
    "plt.show()\n",
    "\n",
    "# Nao Cotista\n",
    "n_sizes = 100. * n_cotistas.descricao.value_counts(normalize=True) \n",
    "labels = n_sizes.index\n",
    "sizes = n_sizes.values\n",
    "\n",
    "fig1, ax1 = plt.subplots()\n",
    "\n",
    "ax1.pie(sizes, labels=labels, autopct='%1.1f%%',\n",
    "        shadow=True, startangle=90)\n",
    "ax1.axis('equal') \n",
    "\n",
    "plt.show()"
   ]
  },
  {
   "cell_type": "code",
   "execution_count": 45,
   "metadata": {},
   "outputs": [
    {
     "name": "stdout",
     "output_type": "stream",
     "text": [
      "Cotista:  4.455220241921455\n",
      "Não cotista:  4.510820255038883\n"
     ]
    }
   ],
   "source": [
    "print(\"Cotista: \",cotistas.nota.mean())\n",
    "print(\"Não cotista: \",n_cotistas.nota.mean())"
   ]
  },
  {
   "cell_type": "code",
   "execution_count": 48,
   "metadata": {},
   "outputs": [
    {
     "name": "stdout",
     "output_type": "stream",
     "text": [
      "Primeira:  4.8036611057446414\n",
      "Segunda:  4.656704891637953\n",
      "Terceira:  3.854331042211619\n"
     ]
    }
   ],
   "source": [
    "primeira = df_info[df_info.unidade == 1.0]\n",
    "segunda = df_info[df_info.unidade == 2.0]\n",
    "terceira = df_info[df_info.unidade == 3.0]\n",
    "print(\"Primeira: \", primeira.nota.mean())\n",
    "print(\"Segunda: \", segunda.nota.mean())\n",
    "print(\"Terceira: \", terceira.nota.mean())"
   ]
  },
  {
   "cell_type": "code",
   "execution_count": 47,
   "metadata": {},
   "outputs": [
    {
     "name": "stdout",
     "output_type": "stream",
     "text": [
      "Primeira:  4.8036611057446414\n",
      "Segunda:  4.656704891637953\n",
      "Terceira:  3.854331042211619\n"
     ]
    },
    {
     "data": {
      "text/plain": [
       "<matplotlib.axes._subplots.AxesSubplot at 0x23394aa9908>"
      ]
     },
     "execution_count": 47,
     "metadata": {},
     "output_type": "execute_result"
    },
    {
     "data": {
      "image/png": "[encoded data removed]",
      "text/plain": [
       "<Figure size 1152x504 with 1 Axes>"
      ]
     },
     "metadata": {},
     "output_type": "display_data"
    }
   ],
   "source": [
    "df_info[df_info.unidade == 1.0]['nota'].plot(kind='box')"
   ]
  },
  {
   "cell_type": "code",
   "execution_count": 49,
   "metadata": {},
   "outputs": [
    {
     "data": {
      "text/plain": [
       "<matplotlib.axes._subplots.AxesSubplot at 0x23395745780>"
      ]
     },
     "execution_count": 49,
     "metadata": {},
     "output_type": "execute_result"
    },
    {
     "data": {
      "image/png": "[encoded data removed]",
      "text/plain": [
       "<Figure size 1152x504 with 1 Axes>"
      ]
     },
     "metadata": {},
     "output_type": "display_data"
    }
   ],
   "source": [
    "df_info[df_info.unidade == 2.0]['nota'].plot(kind='box')"
   ]
  },
  {
   "cell_type": "code",
   "execution_count": 50,
   "metadata": {},
   "outputs": [
    {
     "data": {
      "text/plain": [
       "<matplotlib.axes._subplots.AxesSubplot at 0x23394157630>"
      ]
     },
     "execution_count": 50,
     "metadata": {},
     "output_type": "execute_result"
    },
    {
     "data": {
      "image/png": "[encoded data removed]",
      "text/plain": [
       "<Figure size 1152x504 with 1 Axes>"
      ]
     },
     "metadata": {},
     "output_type": "display_data"
    }
   ],
   "source": [
    "df_info[df_info.unidade == 3.0]['nota'].plot(kind='box')"
   ]
  },
  {
   "cell_type": "code",
   "execution_count": 35,
   "metadata": {
    "colab": {
     "base_uri": "https://localhost:8080/",
     "height": 552
    },
    "colab_type": "code",
    "id": "JIB95Dj2fHcv",
    "outputId": "70eeabdc-164d-4c92-d0dd-3bd6673cf693"
   },
   "outputs": [
    {
     "name": "stdout",
     "output_type": "stream",
     "text": [
      "REPROVADO                           37.092308\n",
      "REPROVADO POR MÉDIA E POR FALTAS    30.492308\n",
      "APROVADO POR NOTA                   29.184615\n",
      "APROVADO                             2.230769\n",
      "TRANCADO                             0.830769\n",
      "REPROVADO POR NOTA                   0.107692\n",
      "REPROVADO POR FALTAS                 0.061538\n",
      "Name: descricao, dtype: float64\n"
     ]
    },
    {
     "data": {
      "text/plain": [
       "<matplotlib.axes._subplots.AxesSubplot at 0x23394d3f550>"
      ]
     },
     "execution_count": 35,
     "metadata": {},
     "output_type": "execute_result"
    },
    {
     "data": {
      "image/png": "[encoded data removed]",
      "text/plain": [
       "<Figure size 432x288 with 1 Axes>"
      ]
     },
     "metadata": {},
     "output_type": "display_data"
    }
   ],
   "source": [
    "results = df_turma_matricula.loc[(df_turma_matricula.unidade == 1.0) & (df_turma_matricula.nota < 5)]\n",
    "print (results.descricao.value_counts(normalize=True)*100)\n",
    "(results.descricao.value_counts(normalize=True)*100).plot(kind='bar')"
   ]
  },
  {
   "cell_type": "code",
   "execution_count": 51,
   "metadata": {
    "colab": {
     "base_uri": "https://localhost:8080/",
     "height": 552
    },
    "colab_type": "code",
    "id": "JIB95Dj2fHcv",
    "outputId": "70eeabdc-164d-4c92-d0dd-3bd6673cf693"
   },
   "outputs": [
    {
     "name": "stdout",
     "output_type": "stream",
     "text": [
      "APROVADO POR NOTA                   39.986897\n",
      "REPROVADO                           36.776589\n",
      "REPROVADO POR MÉDIA E POR FALTAS    20.244595\n",
      "APROVADO                             2.686176\n",
      "REPROVADO POR NOTA                   0.131033\n",
      "TRANCADO                             0.087355\n",
      "REPROVADO POR FALTAS                 0.087355\n",
      "Name: descricao, dtype: float64\n"
     ]
    },
    {
     "data": {
      "text/plain": [
       "<matplotlib.axes._subplots.AxesSubplot at 0x233940eb0b8>"
      ]
     },
     "execution_count": 51,
     "metadata": {},
     "output_type": "execute_result"
    },
    {
     "data": {
      "image/png": "[encoded data removed]",
      "text/plain": [
       "<Figure size 1152x504 with 1 Axes>"
      ]
     },
     "metadata": {},
     "output_type": "display_data"
    }
   ],
   "source": [
    "results = df_turma_matricula.loc[(df_turma_matricula.unidade == 1.0) & (df_turma_matricula.nota < 5) & (df_turma_matricula.nota > 1)]\n",
    "print (results.descricao.value_counts(normalize=True)*100)\n",
    "(results.descricao.value_counts(normalize=True)*100).plot(kind='bar')"
   ]
  },
  {
   "cell_type": "code",
   "execution_count": 52,
   "metadata": {
    "colab": {
     "base_uri": "https://localhost:8080/",
     "height": 552
    },
    "colab_type": "code",
    "id": "JIB95Dj2fHcv",
    "outputId": "70eeabdc-164d-4c92-d0dd-3bd6673cf693"
   },
   "outputs": [
    {
     "name": "stdout",
     "output_type": "stream",
     "text": [
      "REPROVADO POR MÉDIA E POR FALTAS    55.513308\n",
      "REPROVADO                           36.730038\n",
      "TRANCADO                             3.650190\n",
      "APROVADO POR NOTA                    2.661597\n",
      "APROVADO                             1.444867\n",
      "Name: descricao, dtype: float64\n"
     ]
    },
    {
     "data": {
      "text/plain": [
       "<matplotlib.axes._subplots.AxesSubplot at 0x23393bcada0>"
      ]
     },
     "execution_count": 52,
     "metadata": {},
     "output_type": "execute_result"
    },
    {
     "data": {
      "image/png": "[encoded data removed]",
      "text/plain": [
       "<Figure size 1152x504 with 1 Axes>"
      ]
     },
     "metadata": {},
     "output_type": "display_data"
    }
   ],
   "source": [
    "results = df_turma_matricula.loc[(df_turma_matricula.unidade == 1.0) & (df_turma_matricula.nota == 0)]\n",
    "print (results.descricao.value_counts(normalize=True)*100)\n",
    "(results.descricao.value_counts(normalize=True)*100).plot(kind='bar')"
   ]
  },
  {
   "cell_type": "code",
   "execution_count": 53,
   "metadata": {},
   "outputs": [
    {
     "name": "stdout",
     "output_type": "stream",
     "text": [
      "APROVADO POR NOTA                   1281\n",
      "REPROVADO                            385\n",
      "APROVADO                             161\n",
      "REPROVADO POR NOTA                    12\n",
      "REPROVADO POR MÉDIA E POR FALTAS       1\n",
      "Name: descricao, dtype: int64\n"
     ]
    },
    {
     "data": {
      "text/plain": [
       "<matplotlib.axes._subplots.AxesSubplot at 0x23394a03c18>"
      ]
     },
     "execution_count": 53,
     "metadata": {},
     "output_type": "execute_result"
    },
    {
     "data": {
      "image/png": "[encoded data removed]",
      "text/plain": [
       "<Figure size 1152x504 with 1 Axes>"
      ]
     },
     "metadata": {},
     "output_type": "display_data"
    }
   ],
   "source": [
    "results = df_turma_matricula.loc[(df_turma_matricula.reposicao == 't')]\n",
    "print (results.descricao.value_counts())\n",
    "(results.descricao.value_counts(normalize=True)*100).plot(kind='bar')"
   ]
  },
  {
   "cell_type": "code",
   "execution_count": 54,
   "metadata": {
    "colab": {
     "base_uri": "https://localhost:8080/",
     "height": 377
    },
    "colab_type": "code",
    "id": "82M1Tv_IMI3S",
    "outputId": "293fd24f-a428-4fc1-f987-786b938071d5"
   },
   "outputs": [
    {
     "data": {
      "text/html": [
       "<div>\n",
       "<style scoped>\n",
       "    .dataframe tbody tr th:only-of-type {\n",
       "        vertical-align: middle;\n",
       "    }\n",
       "\n",
       "    .dataframe tbody tr th {\n",
       "        vertical-align: top;\n",
       "    }\n",
       "\n",
       "    .dataframe thead th {\n",
       "        text-align: right;\n",
       "    }\n",
       "</style>\n",
       "<table border=\"1\" class=\"dataframe\">\n",
       "  <thead>\n",
       "    <tr style=\"text-align: right;\">\n",
       "      <th></th>\n",
       "      <th>id_curriculo_componente</th>\n",
       "      <th>id_componente</th>\n",
       "      <th>semestre_oferta</th>\n",
       "      <th>codigo</th>\n",
       "      <th>nome</th>\n",
       "      <th>ch_total</th>\n",
       "      <th>equivalencia</th>\n",
       "      <th>pre_requisito</th>\n",
       "      <th>co_requisito</th>\n",
       "    </tr>\n",
       "  </thead>\n",
       "  <tbody>\n",
       "    <tr>\n",
       "      <th>26</th>\n",
       "      <td>101659808</td>\n",
       "      <td>52665</td>\n",
       "      <td>2</td>\n",
       "      <td>IMD0034</td>\n",
       "      <td>VETORES E GEOMETRIA ANALÍTICA</td>\n",
       "      <td>60</td>\n",
       "      <td>( ECT1112 E ECT1211 ) OU ( ECT2102 )</td>\n",
       "      <td>IMD0019</td>\n",
       "      <td>NaN</td>\n",
       "    </tr>\n",
       "    <tr>\n",
       "      <th>102</th>\n",
       "      <td>101659833</td>\n",
       "      <td>55022</td>\n",
       "      <td>2</td>\n",
       "      <td>IMD0028</td>\n",
       "      <td>FUNDAMENTOS MATEMÁTICOS DA COMPUTAÇÃO I</td>\n",
       "      <td>90</td>\n",
       "      <td>( IMD0013 OU DIM0400 OU DIM0115 )</td>\n",
       "      <td>IMD0019</td>\n",
       "      <td>NaN</td>\n",
       "    </tr>\n",
       "    <tr>\n",
       "      <th>112</th>\n",
       "      <td>101659835</td>\n",
       "      <td>52664</td>\n",
       "      <td>3</td>\n",
       "      <td>IMD0033</td>\n",
       "      <td>PROBABILIDADE</td>\n",
       "      <td>60</td>\n",
       "      <td>NaN</td>\n",
       "      <td>IMD0024</td>\n",
       "      <td>NaN</td>\n",
       "    </tr>\n",
       "    <tr>\n",
       "      <th>280</th>\n",
       "      <td>101659837</td>\n",
       "      <td>55027</td>\n",
       "      <td>4</td>\n",
       "      <td>IMD0040</td>\n",
       "      <td>LINGUAGEM DE PROGRAMAÇÃO II</td>\n",
       "      <td>60</td>\n",
       "      <td>( DIM0111 ) OU ( IMD0035 ) OU ( DIM0116 )</td>\n",
       "      <td>IMD0030</td>\n",
       "      <td>( IMD0039 )</td>\n",
       "    </tr>\n",
       "    <tr>\n",
       "      <th>393</th>\n",
       "      <td>101659804</td>\n",
       "      <td>55020</td>\n",
       "      <td>1</td>\n",
       "      <td>IMD0018</td>\n",
       "      <td>PRÁTICAS DE LEITURA EM INGLÊS</td>\n",
       "      <td>30</td>\n",
       "      <td>( IMD0037 OU ECT1307 OU ECT2305 )</td>\n",
       "      <td>NaN</td>\n",
       "      <td>NaN</td>\n",
       "    </tr>\n",
       "  </tbody>\n",
       "</table>\n",
       "</div>"
      ],
      "text/plain": [
       "     id_curriculo_componente  id_componente  semestre_oferta   codigo  \\\n",
       "26                 101659808          52665                2  IMD0034   \n",
       "102                101659833          55022                2  IMD0028   \n",
       "112                101659835          52664                3  IMD0033   \n",
       "280                101659837          55027                4  IMD0040   \n",
       "393                101659804          55020                1  IMD0018   \n",
       "\n",
       "                                        nome ch_total  \\\n",
       "26             VETORES E GEOMETRIA ANALÍTICA       60   \n",
       "102  FUNDAMENTOS MATEMÁTICOS DA COMPUTAÇÃO I       90   \n",
       "112                            PROBABILIDADE       60   \n",
       "280              LINGUAGEM DE PROGRAMAÇÃO II       60   \n",
       "393            PRÁTICAS DE LEITURA EM INGLÊS       30   \n",
       "\n",
       "                                   equivalencia pre_requisito  co_requisito  \n",
       "26        ( ECT1112 E ECT1211 ) OU ( ECT2102 )        IMD0019           NaN  \n",
       "102          ( IMD0013 OU DIM0400 OU DIM0115 )        IMD0019           NaN  \n",
       "112                                         NaN       IMD0024           NaN  \n",
       "280  ( DIM0111 ) OU ( IMD0035 ) OU ( DIM0116 )        IMD0030  ( IMD0039 )   \n",
       "393          ( IMD0037 OU ECT1307 OU ECT2305 )            NaN           NaN  "
      ]
     },
     "execution_count": 54,
     "metadata": {},
     "output_type": "execute_result"
    }
   ],
   "source": [
    "df_grade = df_curriculo_comum\n",
    "df_grade.pre_requisito = df_grade.pre_requisito.str.replace('(', '')\n",
    "df_grade.pre_requisito = df_grade.pre_requisito.str.replace(')', '')\n",
    "df_grade.pre_requisito = df_grade.pre_requisito.str.replace(' ', '')\n",
    "df_grade.head()"
   ]
  },
  {
   "cell_type": "code",
   "execution_count": 90,
   "metadata": {},
   "outputs": [
    {
     "data": {
      "text/plain": [
       "IMD0019    2718\n",
       "IMD0024    1116\n",
       "IMD0028    1077\n",
       "IMD0034    1053\n",
       "IMD0030     549\n",
       "IMD0038     501\n",
       "IMD0029     375\n",
       "IMD0040     342\n",
       "IMD0017     166\n",
       "IMD0020     120\n",
       "IMD0039     114\n",
       "IMD0033     114\n",
       "IMD0027      98\n",
       "IMD0018      64\n",
       "Name: codigo, dtype: int64"
      ]
     },
     "execution_count": 90,
     "metadata": {},
     "output_type": "execute_result"
    }
   ],
   "source": [
    "reprovados = df_turma_matricula[df_turma_matricula['descricao'] == 'REPROVADO']\n",
    "disciplina_mais_reprova = pd.merge(reprovados, df_curriculo_comum, on='id_componente')\n",
    "reprovacoes = disciplina_mais_reprova.codigo.value_counts()\n",
    "reprovacoes"
   ]
  },
  {
   "cell_type": "code",
   "execution_count": 65,
   "metadata": {},
   "outputs": [
    {
     "data": {
      "text/plain": [
       "64"
      ]
     },
     "execution_count": 65,
     "metadata": {},
     "output_type": "execute_result"
    }
   ],
   "source": [
    "reprovacoes[\"PRÁTICAS DE LEITURA EM INGLÊS\"]"
   ]
  },
  {
   "cell_type": "code",
   "execution_count": 151,
   "metadata": {
    "colab": {
     "base_uri": "https://localhost:8080/",
     "height": 576
    },
    "colab_type": "code",
    "id": "QfalPxnSMI3Y",
    "outputId": "5a9d4965-e8e2-4623-baba-b7a404175284"
   },
   "outputs": [
    {
     "name": "stdout",
     "output_type": "stream",
     "text": [
      "[('IMD0012', ((2, 3), 0)), ('IMD0017', ((1, 3), 166)), ('IMD0018', ((1, 4), 64)), ('IMD0019', ((1, 2), 2718)), ('IMD0020', ((1, 1), 120)), ('IMD0024', ((2, 1), 1116)), ('IMD0027', ((2, 2), 98)), ('IMD0028', ((2, 4), 1077)), ('IMD0029', ((3, 1), 375)), ('IMD0030', ((3, 3), 549)), ('IMD0033', ((3, 4), 114)), ('IMD0034', ((2, 5), 1053)), ('IMD0038', ((3, 2), 501)), ('IMD0039', ((4, 1), 114)), ('IMD0040', ((4, 2), 342))]\n",
      "{'IMD0012': (2, 3), 'IMD0017': (1, 3), 'IMD0018': (1, 4), 'IMD0019': (1, 2), 'IMD0020': (1, 1), 'IMD0024': (2, 1), 'IMD0027': (2, 2), 'IMD0028': (2, 4), 'IMD0029': (3, 1), 'IMD0030': (3, 3), 'IMD0033': (3, 4), 'IMD0034': (2, 5), 'IMD0038': (3, 2), 'IMD0039': (4, 1), 'IMD0040': (4, 2)} [0, 166, 64, 2718, 120, 1116, 98, 1077, 375, 549, 114, 1053, 501, 114, 342]\n"
     ]
    },
    {
     "ename": "TypeError",
     "evalue": "list indices must be integers or slices, not str",
     "output_type": "error",
     "traceback": [
      "\u001b[1;31m---------------------------------------------------------------------------\u001b[0m",
      "\u001b[1;31mTypeError\u001b[0m                                 Traceback (most recent call last)",
      "\u001b[1;32m<ipython-input-151-c64c42b04565>\u001b[0m in \u001b[0;36m<module>\u001b[1;34m()\u001b[0m\n\u001b[0;32m     57\u001b[0m \u001b[1;33m\u001b[0m\u001b[0m\n\u001b[0;32m     58\u001b[0m \u001b[0mprint\u001b[0m\u001b[1;33m(\u001b[0m\u001b[0mposicoes\u001b[0m\u001b[1;33m,\u001b[0m \u001b[0mtamanho\u001b[0m\u001b[1;33m)\u001b[0m\u001b[1;33m\u001b[0m\u001b[0m\n\u001b[1;32m---> 59\u001b[1;33m \u001b[0mnx\u001b[0m\u001b[1;33m.\u001b[0m\u001b[0mdraw\u001b[0m\u001b[1;33m(\u001b[0m\u001b[0mG\u001b[0m\u001b[1;33m,\u001b[0m \u001b[0mlist\u001b[0m\u001b[1;33m(\u001b[0m\u001b[0mposicoes\u001b[0m\u001b[1;33m.\u001b[0m\u001b[0mvalues\u001b[0m\u001b[1;33m(\u001b[0m\u001b[1;33m)\u001b[0m\u001b[1;33m)\u001b[0m\u001b[1;33m,\u001b[0m \u001b[0mwith_labels\u001b[0m\u001b[1;33m=\u001b[0m\u001b[1;32mTrue\u001b[0m\u001b[1;33m,\u001b[0m \u001b[0mnode_color\u001b[0m\u001b[1;33m=\u001b[0m\u001b[0mcarac\u001b[0m\u001b[1;33m[\u001b[0m\u001b[1;34m'myvalue'\u001b[0m\u001b[1;33m]\u001b[0m\u001b[1;33m.\u001b[0m\u001b[0mcat\u001b[0m\u001b[1;33m.\u001b[0m\u001b[0mcodes\u001b[0m\u001b[1;33m,\u001b[0m \u001b[0mcmap\u001b[0m\u001b[1;33m=\u001b[0m\u001b[0mplt\u001b[0m\u001b[1;33m.\u001b[0m\u001b[0mcm\u001b[0m\u001b[1;33m.\u001b[0m\u001b[0mSet1\u001b[0m\u001b[1;33m,\u001b[0m \u001b[0mnode_size\u001b[0m\u001b[1;33m=\u001b[0m\u001b[0mtamanho\u001b[0m\u001b[1;33m,\u001b[0m \u001b[0medge_color\u001b[0m\u001b[1;33m=\u001b[0m\u001b[1;34m'lightgrey'\u001b[0m\u001b[1;33m,\u001b[0m \u001b[0mwidth\u001b[0m\u001b[1;33m=\u001b[0m\u001b[1;36m10.0\u001b[0m\u001b[1;33m)\u001b[0m\u001b[1;33m\u001b[0m\u001b[0m\n\u001b[0m",
      "\u001b[1;32m~\\Anaconda3\\lib\\site-packages\\networkx\\drawing\\nx_pylab.py\u001b[0m in \u001b[0;36mdraw\u001b[1;34m(G, pos, ax, **kwds)\u001b[0m\n\u001b[0;32m    124\u001b[0m \u001b[1;33m\u001b[0m\u001b[0m\n\u001b[0;32m    125\u001b[0m     \u001b[1;32mtry\u001b[0m\u001b[1;33m:\u001b[0m\u001b[1;33m\u001b[0m\u001b[0m\n\u001b[1;32m--> 126\u001b[1;33m         \u001b[0mdraw_networkx\u001b[0m\u001b[1;33m(\u001b[0m\u001b[0mG\u001b[0m\u001b[1;33m,\u001b[0m \u001b[0mpos\u001b[0m\u001b[1;33m=\u001b[0m\u001b[0mpos\u001b[0m\u001b[1;33m,\u001b[0m \u001b[0max\u001b[0m\u001b[1;33m=\u001b[0m\u001b[0max\u001b[0m\u001b[1;33m,\u001b[0m \u001b[1;33m**\u001b[0m\u001b[0mkwds\u001b[0m\u001b[1;33m)\u001b[0m\u001b[1;33m\u001b[0m\u001b[0m\n\u001b[0m\u001b[0;32m    127\u001b[0m         \u001b[0max\u001b[0m\u001b[1;33m.\u001b[0m\u001b[0mset_axis_off\u001b[0m\u001b[1;33m(\u001b[0m\u001b[1;33m)\u001b[0m\u001b[1;33m\u001b[0m\u001b[0m\n\u001b[0;32m    128\u001b[0m         \u001b[0mplt\u001b[0m\u001b[1;33m.\u001b[0m\u001b[0mdraw_if_interactive\u001b[0m\u001b[1;33m(\u001b[0m\u001b[1;33m)\u001b[0m\u001b[1;33m\u001b[0m\u001b[0m\n",
      "\u001b[1;32m~\\Anaconda3\\lib\\site-packages\\networkx\\drawing\\nx_pylab.py\u001b[0m in \u001b[0;36mdraw_networkx\u001b[1;34m(G, pos, arrows, with_labels, **kwds)\u001b[0m\n\u001b[0;32m    275\u001b[0m         \u001b[0mpos\u001b[0m \u001b[1;33m=\u001b[0m \u001b[0mnx\u001b[0m\u001b[1;33m.\u001b[0m\u001b[0mdrawing\u001b[0m\u001b[1;33m.\u001b[0m\u001b[0mspring_layout\u001b[0m\u001b[1;33m(\u001b[0m\u001b[0mG\u001b[0m\u001b[1;33m)\u001b[0m  \u001b[1;31m# default to spring layout\u001b[0m\u001b[1;33m\u001b[0m\u001b[0m\n\u001b[0;32m    276\u001b[0m \u001b[1;33m\u001b[0m\u001b[0m\n\u001b[1;32m--> 277\u001b[1;33m     \u001b[0mnode_collection\u001b[0m \u001b[1;33m=\u001b[0m \u001b[0mdraw_networkx_nodes\u001b[0m\u001b[1;33m(\u001b[0m\u001b[0mG\u001b[0m\u001b[1;33m,\u001b[0m \u001b[0mpos\u001b[0m\u001b[1;33m,\u001b[0m \u001b[1;33m**\u001b[0m\u001b[0mkwds\u001b[0m\u001b[1;33m)\u001b[0m\u001b[1;33m\u001b[0m\u001b[0m\n\u001b[0m\u001b[0;32m    278\u001b[0m     \u001b[0medge_collection\u001b[0m \u001b[1;33m=\u001b[0m \u001b[0mdraw_networkx_edges\u001b[0m\u001b[1;33m(\u001b[0m\u001b[0mG\u001b[0m\u001b[1;33m,\u001b[0m \u001b[0mpos\u001b[0m\u001b[1;33m,\u001b[0m \u001b[0marrows\u001b[0m\u001b[1;33m=\u001b[0m\u001b[0marrows\u001b[0m\u001b[1;33m,\u001b[0m \u001b[1;33m**\u001b[0m\u001b[0mkwds\u001b[0m\u001b[1;33m)\u001b[0m\u001b[1;33m\u001b[0m\u001b[0m\n\u001b[0;32m    279\u001b[0m     \u001b[1;32mif\u001b[0m \u001b[0mwith_labels\u001b[0m\u001b[1;33m:\u001b[0m\u001b[1;33m\u001b[0m\u001b[0m\n",
      "\u001b[1;32m~\\Anaconda3\\lib\\site-packages\\networkx\\drawing\\nx_pylab.py\u001b[0m in \u001b[0;36mdraw_networkx_nodes\u001b[1;34m(G, pos, nodelist, node_size, node_color, node_shape, alpha, cmap, vmin, vmax, ax, linewidths, edgecolors, label, **kwds)\u001b[0m\n\u001b[0;32m    392\u001b[0m \u001b[1;33m\u001b[0m\u001b[0m\n\u001b[0;32m    393\u001b[0m     \u001b[1;32mtry\u001b[0m\u001b[1;33m:\u001b[0m\u001b[1;33m\u001b[0m\u001b[0m\n\u001b[1;32m--> 394\u001b[1;33m         \u001b[0mxy\u001b[0m \u001b[1;33m=\u001b[0m \u001b[0mnp\u001b[0m\u001b[1;33m.\u001b[0m\u001b[0masarray\u001b[0m\u001b[1;33m(\u001b[0m\u001b[1;33m[\u001b[0m\u001b[0mpos\u001b[0m\u001b[1;33m[\u001b[0m\u001b[0mv\u001b[0m\u001b[1;33m]\u001b[0m \u001b[1;32mfor\u001b[0m \u001b[0mv\u001b[0m \u001b[1;32min\u001b[0m \u001b[0mnodelist\u001b[0m\u001b[1;33m]\u001b[0m\u001b[1;33m)\u001b[0m\u001b[1;33m\u001b[0m\u001b[0m\n\u001b[0m\u001b[0;32m    395\u001b[0m     \u001b[1;32mexcept\u001b[0m \u001b[0mKeyError\u001b[0m \u001b[1;32mas\u001b[0m \u001b[0me\u001b[0m\u001b[1;33m:\u001b[0m\u001b[1;33m\u001b[0m\u001b[0m\n\u001b[0;32m    396\u001b[0m         \u001b[1;32mraise\u001b[0m \u001b[0mnx\u001b[0m\u001b[1;33m.\u001b[0m\u001b[0mNetworkXError\u001b[0m\u001b[1;33m(\u001b[0m\u001b[1;34m'Node %s has no position.'\u001b[0m \u001b[1;33m%\u001b[0m \u001b[0me\u001b[0m\u001b[1;33m)\u001b[0m\u001b[1;33m\u001b[0m\u001b[0m\n",
      "\u001b[1;32m~\\Anaconda3\\lib\\site-packages\\networkx\\drawing\\nx_pylab.py\u001b[0m in \u001b[0;36m<listcomp>\u001b[1;34m(.0)\u001b[0m\n\u001b[0;32m    392\u001b[0m \u001b[1;33m\u001b[0m\u001b[0m\n\u001b[0;32m    393\u001b[0m     \u001b[1;32mtry\u001b[0m\u001b[1;33m:\u001b[0m\u001b[1;33m\u001b[0m\u001b[0m\n\u001b[1;32m--> 394\u001b[1;33m         \u001b[0mxy\u001b[0m \u001b[1;33m=\u001b[0m \u001b[0mnp\u001b[0m\u001b[1;33m.\u001b[0m\u001b[0masarray\u001b[0m\u001b[1;33m(\u001b[0m\u001b[1;33m[\u001b[0m\u001b[0mpos\u001b[0m\u001b[1;33m[\u001b[0m\u001b[0mv\u001b[0m\u001b[1;33m]\u001b[0m \u001b[1;32mfor\u001b[0m \u001b[0mv\u001b[0m \u001b[1;32min\u001b[0m \u001b[0mnodelist\u001b[0m\u001b[1;33m]\u001b[0m\u001b[1;33m)\u001b[0m\u001b[1;33m\u001b[0m\u001b[0m\n\u001b[0m\u001b[0;32m    395\u001b[0m     \u001b[1;32mexcept\u001b[0m \u001b[0mKeyError\u001b[0m \u001b[1;32mas\u001b[0m \u001b[0me\u001b[0m\u001b[1;33m:\u001b[0m\u001b[1;33m\u001b[0m\u001b[0m\n\u001b[0;32m    396\u001b[0m         \u001b[1;32mraise\u001b[0m \u001b[0mnx\u001b[0m\u001b[1;33m.\u001b[0m\u001b[0mNetworkXError\u001b[0m\u001b[1;33m(\u001b[0m\u001b[1;34m'Node %s has no position.'\u001b[0m \u001b[1;33m%\u001b[0m \u001b[0me\u001b[0m\u001b[1;33m)\u001b[0m\u001b[1;33m\u001b[0m\u001b[0m\n",
      "\u001b[1;31mTypeError\u001b[0m: list indices must be integers or slices, not str"
     ]
    },
    {
     "data": {
      "image/png": "[encoded data removed]",
      "text/plain": [
       "<Figure size 1152x504 with 1 Axes>"
      ]
     },
     "metadata": {},
     "output_type": "display_data"
    }
   ],
   "source": [
    "# TA ERRADO \n",
    "de = []\n",
    "para = []\n",
    "links = {'from': de, 'to': para}\n",
    "ids = []\n",
    "groups = []\n",
    "car = {'ID': ids, 'myvalue': groups}\n",
    "pos = {}\n",
    "ch = {1: [1,2,3,4], 2: [1,2,3,4,5], 3:[1,2,3,4], 4:[1,2]}\n",
    "sizes = []\n",
    "\n",
    "#df_tm = df_turma_matricula.sort_values('unidade').drop_duplicates(subset=['id_turma', 'discente'], keep='last')\n",
    "\n",
    "for _, row in df_grade.iterrows():\n",
    "    ids.append(row.codigo)\n",
    "    \n",
    "    try: \n",
    "        size = reprovacoes[row.codigo]\n",
    "    except:\n",
    "        size = 0\n",
    "    \n",
    "    pos[row.codigo] = ((row.semestre_oferta, ch[row.semestre_oferta].pop()), size)\n",
    "    if (str(row.pre_requisito).lower()!='nan'):\n",
    "        de.append(row.pre_requisito)\n",
    "        para.append(row.codigo)\n",
    "        groups.append('group1')\n",
    "    else:\n",
    "        de.append(row.codigo)\n",
    "        para.append(row.codigo)\n",
    "        groups.append('group2')\n",
    "        pass\n",
    "        \n",
    "df = pd.DataFrame(links)\n",
    " \n",
    "carac = pd.DataFrame(car)\n",
    " \n",
    "G=nx.from_pandas_edgelist(df, 'from', 'to', edge_attr=True)\n",
    " \n",
    "G.nodes()\n",
    "\n",
    "carac= carac.set_index('ID')\n",
    "carac=carac.reindex(G.nodes())\n",
    "carac['myvalue']=pd.Categorical(carac['myvalue'])\n",
    "carac['myvalue'].cat.codes\n",
    "\n",
    "plt.rcParams['figure.figsize'] = (16,7)\n",
    "posicoes = {}\n",
    "tamanho = []\n",
    "posicoes_order = {}\n",
    "posicoes_order = (sorted(pos.items(), key=lambda pos: pos[0]))\n",
    "print(posicoes_order)\n",
    "\n",
    "for v in posicoes_order:\n",
    "    posicoes[v[0]] = v[1][0]\n",
    "    tamanho.append(v[1][1])\n",
    "\n",
    "    \n",
    "print(posicoes, tamanho)\n",
    "nx.draw(G, posicoes, with_labels=True, node_color=carac['myvalue'].cat.codes, cmap=plt.cm.Set1, node_size=tamanho, edge_color='lightgrey', width=10.0)"
   ]
  },
  {
   "cell_type": "markdown",
   "metadata": {
    "colab_type": "text",
    "id": "7YODjeyJMI3c"
   },
   "source": [
    "____"
   ]
  },
  {
   "cell_type": "markdown",
   "metadata": {
    "colab_type": "text",
    "id": "2rnhAoXKMI3d"
   },
   "source": [
    "# O passo final é atribuir peso aos nodes com base nas métricas \n",
    "\n",
    "Reprovaç"
   ]
  },
  {
   "cell_type": "code",
   "execution_count": 0,
   "metadata": {
    "colab": {},
    "colab_type": "code",
    "id": "K0WCef75MI3e"
   },
   "outputs": [],
   "source": []
  }
 ],
 "metadata": {
  "colab": {
   "name": "Projeto_IA_Educ.ipynb",
   "provenance": [],
   "toc_visible": true,
   "version": "0.3.2"
  },
  "kernelspec": {
   "display_name": "Python 3",
   "language": "python",
   "name": "python3"
  },
  "language_info": {
   "codemirror_mode": {
    "name": "ipython",
    "version": 3
   },
   "file_extension": ".py",
   "mimetype": "text/x-python",
   "name": "python",
   "nbconvert_exporter": "python",
   "pygments_lexer": "ipython3",
   "version": "3.6.5"
  }
 },
 "nbformat": 4,
 "nbformat_minor": 1
}
